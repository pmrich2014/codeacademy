{
 "cells": [
  {
   "cell_type": "code",
   "execution_count": 1,
   "metadata": {
    "slideshow": {
     "slide_type": "skip"
    }
   },
   "outputs": [
    {
     "data": {
      "text/plain": [
       "'3.0.2'"
      ]
     },
     "execution_count": 1,
     "metadata": {},
     "output_type": "execute_result"
    }
   ],
   "source": [
    "import nbpresent\n",
    "nbpresent.__version__"
   ]
  },
  {
   "cell_type": "markdown",
   "metadata": {
    "nbpresent": {
     "id": "43f1a2a2-9fab-4000-9ca6-badcb2b1176b"
    },
    "slideshow": {
     "slide_type": "slide"
    }
   },
   "source": [
    "# Introduction\n",
    "\n",
    "This is the final capstone project for the Intro to Machine Learning Pro Intensive on CodeAcademy.com. For this final project we are working with a data from OKCupip which consist of profile information from its registrants. \n",
    "\n",
    "After some analysis of the dataset I was curious about how I might be able to incorporate NLP with all of the text from the essay questions. Additionally, I was curious about what people on OKCupid might really be looking for; casual encounters or long term partnership. Finally, I was also interested in how we might be able to determine income from the profile, but that question had some interest and was much less interesting to me that my first question.\n",
    "\n",
    "The rest of this document will walk you through my process and share my results while demonstrating some of what I learned in the course. "
   ]
  },
  {
   "cell_type": "markdown",
   "metadata": {
    "nbpresent": {
     "id": "fc6367cb-df51-4e8e-865d-4d16a69620cd"
    },
    "slideshow": {
     "slide_type": "skip"
    }
   },
   "source": [
    "# Imports & Setup"
   ]
  },
  {
   "cell_type": "code",
   "execution_count": 2,
   "metadata": {
    "nbpresent": {
     "id": "76e58e58-7bf0-4e16-9b6a-9eaed0830c73"
    },
    "slideshow": {
     "slide_type": "skip"
    }
   },
   "outputs": [
    {
     "name": "stderr",
     "output_type": "stream",
     "text": [
      "/Users/paulrichardson/anaconda3/lib/python3.6/site-packages/nltk/twitter/__init__.py:20: UserWarning: The twython library has not been installed. Some functionality from the twitter package will not be available.\n",
      "  warnings.warn(\"The twython library has not been installed. \"\n"
     ]
    }
   ],
   "source": [
    "import pandas as pd\n",
    "import matplotlib.pyplot as plt\n",
    "%matplotlib inline\n",
    "import re\n",
    "import numpy as np\n",
    "import nltk\n",
    "#nltk.download('vader_lexicon')\n",
    "from nltk.sentiment.vader import SentimentIntensityAnalyzer \n",
    "import time\n",
    "\n",
    "#change disply settings for data\n",
    "#max display width\n",
    "pd.options.display.max_columns = 60\n",
    "#max column width\n",
    "pd.options.display.max_colwidth = 500"
   ]
  },
  {
   "cell_type": "markdown",
   "metadata": {
    "nbpresent": {
     "id": "01dc3f6f-dd83-40c1-8b12-0c1517911e5f"
    },
    "slideshow": {
     "slide_type": "skip"
    }
   },
   "source": [
    "# Load in the DataFrame"
   ]
  },
  {
   "cell_type": "code",
   "execution_count": 3,
   "metadata": {
    "nbpresent": {
     "id": "c3c1dd90-265b-4846-85e6-93bf85580b8b"
    },
    "slideshow": {
     "slide_type": "skip"
    }
   },
   "outputs": [],
   "source": [
    "#Load in the DataFrame\n",
    "df = pd.read_csv(\"profiles.csv\")"
   ]
  },
  {
   "cell_type": "markdown",
   "metadata": {
    "nbpresent": {
     "id": "51940cdf-5a12-4d40-a2e3-df1f5e27993e"
    },
    "slideshow": {
     "slide_type": "slide"
    }
   },
   "source": [
    "# Data Exploration"
   ]
  },
  {
   "cell_type": "code",
   "execution_count": 4,
   "metadata": {
    "nbpresent": {
     "id": "58ea994c-9d2c-427e-a002-e50722014fe8"
    },
    "slideshow": {
     "slide_type": "slide"
    }
   },
   "outputs": [
    {
     "name": "stdout",
     "output_type": "stream",
     "text": [
      "Number of Rows:  59946\n",
      "Number of Columns:  31\n",
      "\n",
      "Our data consist of the following columns ['age', 'body_type', 'diet', 'drinks', 'drugs', 'education', 'essay0', 'essay1', 'essay2', 'essay3', 'essay4', 'essay5', 'essay6', 'essay7', 'essay8', 'essay9', 'ethnicity', 'height', 'income', 'job', 'last_online', 'location', 'offspring', 'orientation', 'pets', 'religion', 'sex', 'sign', 'smokes', 'speaks', 'status']\n"
     ]
    }
   ],
   "source": [
    "#rows and colums of data\n",
    "df.shape\n",
    "\n",
    "print('Number of Rows: ', df.shape[0])\n",
    "print('Number of Columns: ', df.shape[1])\n",
    "\n",
    "#list all columns\n",
    "print()\n",
    "print('Our data consist of the following columns', list(df))"
   ]
  },
  {
   "cell_type": "code",
   "execution_count": 5,
   "metadata": {
    "nbpresent": {
     "id": "892f2284-08ce-4611-a68f-2bdb67201509"
    },
    "slideshow": {
     "slide_type": "skip"
    }
   },
   "outputs": [
    {
     "data": {
      "text/html": [
       "<div>\n",
       "<style scoped>\n",
       "    .dataframe tbody tr th:only-of-type {\n",
       "        vertical-align: middle;\n",
       "    }\n",
       "\n",
       "    .dataframe tbody tr th {\n",
       "        vertical-align: top;\n",
       "    }\n",
       "\n",
       "    .dataframe thead th {\n",
       "        text-align: right;\n",
       "    }\n",
       "</style>\n",
       "<table border=\"1\" class=\"dataframe\">\n",
       "  <thead>\n",
       "    <tr style=\"text-align: right;\">\n",
       "      <th></th>\n",
       "      <th>age</th>\n",
       "      <th>body_type</th>\n",
       "      <th>diet</th>\n",
       "      <th>drinks</th>\n",
       "      <th>drugs</th>\n",
       "      <th>education</th>\n",
       "      <th>essay0</th>\n",
       "      <th>essay1</th>\n",
       "      <th>essay2</th>\n",
       "      <th>essay3</th>\n",
       "      <th>essay4</th>\n",
       "      <th>essay5</th>\n",
       "      <th>essay6</th>\n",
       "      <th>essay7</th>\n",
       "      <th>essay8</th>\n",
       "      <th>essay9</th>\n",
       "      <th>ethnicity</th>\n",
       "      <th>height</th>\n",
       "      <th>income</th>\n",
       "      <th>job</th>\n",
       "      <th>last_online</th>\n",
       "      <th>location</th>\n",
       "      <th>offspring</th>\n",
       "      <th>orientation</th>\n",
       "      <th>pets</th>\n",
       "      <th>religion</th>\n",
       "      <th>sex</th>\n",
       "      <th>sign</th>\n",
       "      <th>smokes</th>\n",
       "      <th>speaks</th>\n",
       "      <th>status</th>\n",
       "    </tr>\n",
       "  </thead>\n",
       "  <tbody>\n",
       "    <tr>\n",
       "      <th>0</th>\n",
       "      <td>22</td>\n",
       "      <td>a little extra</td>\n",
       "      <td>strictly anything</td>\n",
       "      <td>socially</td>\n",
       "      <td>never</td>\n",
       "      <td>working on college/university</td>\n",
       "      <td>about me:&lt;br /&gt;\\n&lt;br /&gt;\\ni would love to think that i was some some kind of intellectual:\\neither the dumbest smart guy, or the smartest dumb guy. can't say i\\ncan tell the difference. i love to talk about ideas and concepts. i\\nforge odd metaphors instead of reciting cliches. like the\\nsimularities between a friend of mine's house and an underwater\\nsalt mine. my favorite word is salt by the way (weird choice i\\nknow). to me most things in life are better as metaphors. i seek to\\nmake mysel...</td>\n",
       "      <td>currently working as an international agent for a freight\\nforwarding company. import, export, domestic you know the\\nworks.&lt;br /&gt;\\nonline classes and trying to better myself in my free time. perhaps\\na hours worth of a good book or a video game on a lazy sunday.</td>\n",
       "      <td>making people laugh.&lt;br /&gt;\\nranting about a good salting.&lt;br /&gt;\\nfinding simplicity in complexity, and complexity in simplicity.</td>\n",
       "      <td>the way i look. i am a six foot half asian, half caucasian mutt. it\\nmakes it tough not to notice me, and for me to blend in.</td>\n",
       "      <td>books:&lt;br /&gt;\\nabsurdistan, the republic, of mice and men (only book that made me\\nwant to cry), catcher in the rye, the prince.&lt;br /&gt;\\n&lt;br /&gt;\\nmovies:&lt;br /&gt;\\ngladiator, operation valkyrie, the producers, down periscope.&lt;br /&gt;\\n&lt;br /&gt;\\nshows:&lt;br /&gt;\\nthe borgia, arrested development, game of thrones, monty\\npython&lt;br /&gt;\\n&lt;br /&gt;\\nmusic:&lt;br /&gt;\\naesop rock, hail mary mallon, george thorogood and the delaware\\ndestroyers, felt&lt;br /&gt;\\n&lt;br /&gt;\\nfood:&lt;br /&gt;\\ni'm down for anything.</td>\n",
       "      <td>food.&lt;br /&gt;\\nwater.&lt;br /&gt;\\ncell phone.&lt;br /&gt;\\nshelter.</td>\n",
       "      <td>duality and humorous things</td>\n",
       "      <td>trying to find someone to hang out with. i am down for anything\\nexcept a club.</td>\n",
       "      <td>i am new to california and looking for someone to wisper my secrets\\nto.</td>\n",
       "      <td>you want to be swept off your feet!&lt;br /&gt;\\nyou are tired of the norm.&lt;br /&gt;\\nyou want to catch a coffee or a bite.&lt;br /&gt;\\nor if you want to talk philosophy.</td>\n",
       "      <td>asian, white</td>\n",
       "      <td>75.0</td>\n",
       "      <td>-1</td>\n",
       "      <td>transportation</td>\n",
       "      <td>2012-06-28-20-30</td>\n",
       "      <td>south san francisco, california</td>\n",
       "      <td>doesn&amp;rsquo;t have kids, but might want them</td>\n",
       "      <td>straight</td>\n",
       "      <td>likes dogs and likes cats</td>\n",
       "      <td>agnosticism and very serious about it</td>\n",
       "      <td>m</td>\n",
       "      <td>gemini</td>\n",
       "      <td>sometimes</td>\n",
       "      <td>english</td>\n",
       "      <td>single</td>\n",
       "    </tr>\n",
       "    <tr>\n",
       "      <th>1</th>\n",
       "      <td>35</td>\n",
       "      <td>average</td>\n",
       "      <td>mostly other</td>\n",
       "      <td>often</td>\n",
       "      <td>sometimes</td>\n",
       "      <td>working on space camp</td>\n",
       "      <td>i am a chef: this is what that means.&lt;br /&gt;\\n1. i am a workaholic.&lt;br /&gt;\\n2. i love to cook regardless of whether i am at work.&lt;br /&gt;\\n3. i love to drink and eat foods that are probably really bad for\\nme.&lt;br /&gt;\\n4. i love being around people that resemble line 1-3.&lt;br /&gt;\\ni love the outdoors and i am an avid skier. if its snowing i will\\nbe in tahoe at the very least. i am a very confident and friendly.\\ni'm not interested in acting or being a typical guy. i have no time\\nor patience for re...</td>\n",
       "      <td>dedicating everyday to being an unbelievable badass.</td>\n",
       "      <td>being silly. having ridiculous amonts of fun wherever. being a\\nsmart ass. ohh and i can cook. ;)</td>\n",
       "      <td>NaN</td>\n",
       "      <td>i am die hard christopher moore fan. i don't really watch a lot of\\ntv unless there is humor involved. i am kind of stuck on 90's\\nalternative music. i am pretty much a fan of everything though... i\\ndo need to draw a line at most types of electronica.</td>\n",
       "      <td>delicious porkness in all of its glories.&lt;br /&gt;\\nmy big ass doughboy's sinking into 15 new inches.&lt;br /&gt;\\nmy overly resilient liver.&lt;br /&gt;\\na good sharp knife.&lt;br /&gt;\\nmy ps3... it plays blurays too. ;)&lt;br /&gt;\\nmy over the top energy and my outlook on life... just give me a bag\\nof lemons and see what happens. ;)</td>\n",
       "      <td>NaN</td>\n",
       "      <td>NaN</td>\n",
       "      <td>i am very open and will share just about anything.</td>\n",
       "      <td>NaN</td>\n",
       "      <td>white</td>\n",
       "      <td>70.0</td>\n",
       "      <td>80000</td>\n",
       "      <td>hospitality / travel</td>\n",
       "      <td>2012-06-29-21-41</td>\n",
       "      <td>oakland, california</td>\n",
       "      <td>doesn&amp;rsquo;t have kids, but might want them</td>\n",
       "      <td>straight</td>\n",
       "      <td>likes dogs and likes cats</td>\n",
       "      <td>agnosticism but not too serious about it</td>\n",
       "      <td>m</td>\n",
       "      <td>cancer</td>\n",
       "      <td>no</td>\n",
       "      <td>english (fluently), spanish (poorly), french (poorly)</td>\n",
       "      <td>single</td>\n",
       "    </tr>\n",
       "    <tr>\n",
       "      <th>2</th>\n",
       "      <td>38</td>\n",
       "      <td>thin</td>\n",
       "      <td>anything</td>\n",
       "      <td>socially</td>\n",
       "      <td>NaN</td>\n",
       "      <td>graduated from masters program</td>\n",
       "      <td>i'm not ashamed of much, but writing public text on an online\\ndating site makes me pleasantly uncomfortable. i'll try to be as\\nearnest as possible in the noble endeavor of standing naked before\\nthe world.&lt;br /&gt;\\n&lt;br /&gt;\\ni've lived in san francisco for 15 years, and both love it and find\\nmyself frustrated with its deficits. lots of great friends and\\nacquaintances (which increases my apprehension to put anything on\\nthis site), but i'm feeling like meeting some new people that\\naren't jus...</td>\n",
       "      <td>i make nerdy software for musicians, artists, and experimenters to\\nindulge in their own weirdness, but i like to spend time away from\\nthe computer when working on my artwork (which is typically more\\nconcerned with group dynamics and communication, than with visual\\nform, objects, or technology). i also record and deejay dance,\\nnoise, pop, and experimental music (most of which electronic or at\\nleast studio based). besides these relatively ego driven\\nactivities, i've been enjoying things...</td>\n",
       "      <td>improvising in different contexts. alternating between being\\npresent and decidedly outside of a moment, or trying to hold both\\nat once. rambling intellectual conversations that hold said\\nconversations in contempt while seeking to find something that\\ntranscends them. being critical while remaining generous. listening\\nto and using body language--often performed in caricature or large\\ngestures, if not outright interpretive dance. dry, dark, and\\nraunchy humor.</td>\n",
       "      <td>my large jaw and large glasses are the physical things people\\ncomment on the most. when sufficiently stimulated, i have an\\nunmistakable cackle of a laugh. after that, it goes in more\\ndirections than i care to describe right now. maybe i'll come back\\nto this.</td>\n",
       "      <td>okay this is where the cultural matrix gets so specific, it's like\\nbeing in the crosshairs.&lt;br /&gt;\\n&lt;br /&gt;\\nfor what it's worth, i find myself reading more non-fiction than\\nfiction. it's usually some kind of philosophy, art, or science text\\nby silly authors such as ranciere, de certeau, bataille,\\nbaudrillard, butler, stein, arendt, nietzche, zizek, etc. i'll\\noften throw in some weird new age or pop-psychology book in the mix\\nas well. as for fiction, i enjoy what little i've read of eco,...</td>\n",
       "      <td>movement&lt;br /&gt;\\nconversation&lt;br /&gt;\\ncreation&lt;br /&gt;\\ncontemplation&lt;br /&gt;\\ntouch&lt;br /&gt;\\nhumor</td>\n",
       "      <td>NaN</td>\n",
       "      <td>viewing. listening. dancing. talking. drinking. performing.</td>\n",
       "      <td>when i was five years old, i was known as \"the boogerman\".</td>\n",
       "      <td>you are bright, open, intense, silly, ironic, critical, caring,\\ngenerous, looking for an exploration, rather than finding \"a match\"\\nof some predetermined qualities.&lt;br /&gt;\\n&lt;br /&gt;\\ni'm currently in a fabulous and open relationship, so you should be\\ncomfortable with that.</td>\n",
       "      <td>NaN</td>\n",
       "      <td>68.0</td>\n",
       "      <td>-1</td>\n",
       "      <td>NaN</td>\n",
       "      <td>2012-06-27-09-10</td>\n",
       "      <td>san francisco, california</td>\n",
       "      <td>NaN</td>\n",
       "      <td>straight</td>\n",
       "      <td>has cats</td>\n",
       "      <td>NaN</td>\n",
       "      <td>m</td>\n",
       "      <td>pisces but it doesn&amp;rsquo;t matter</td>\n",
       "      <td>no</td>\n",
       "      <td>english, french, c++</td>\n",
       "      <td>available</td>\n",
       "    </tr>\n",
       "    <tr>\n",
       "      <th>3</th>\n",
       "      <td>23</td>\n",
       "      <td>thin</td>\n",
       "      <td>vegetarian</td>\n",
       "      <td>socially</td>\n",
       "      <td>NaN</td>\n",
       "      <td>working on college/university</td>\n",
       "      <td>i work in a library and go to school. . .</td>\n",
       "      <td>reading things written by old dead people</td>\n",
       "      <td>playing synthesizers and organizing books according to the library\\nof congress classification system</td>\n",
       "      <td>socially awkward but i do my best</td>\n",
       "      <td>bataille, celine, beckett. . .&lt;br /&gt;\\nlynch, jarmusch, r.w. fassbender. . .&lt;br /&gt;\\ntwin peaks &amp;amp; fishing w/ john&lt;br /&gt;\\njoy division, throbbing gristle, cabaret voltaire. . .&lt;br /&gt;\\nvegetarian pho and coffee</td>\n",
       "      <td>NaN</td>\n",
       "      <td>cats and german philosophy</td>\n",
       "      <td>NaN</td>\n",
       "      <td>NaN</td>\n",
       "      <td>you feel so inclined.</td>\n",
       "      <td>white</td>\n",
       "      <td>71.0</td>\n",
       "      <td>20000</td>\n",
       "      <td>student</td>\n",
       "      <td>2012-06-28-14-22</td>\n",
       "      <td>berkeley, california</td>\n",
       "      <td>doesn&amp;rsquo;t want kids</td>\n",
       "      <td>straight</td>\n",
       "      <td>likes cats</td>\n",
       "      <td>NaN</td>\n",
       "      <td>m</td>\n",
       "      <td>pisces</td>\n",
       "      <td>no</td>\n",
       "      <td>english, german (poorly)</td>\n",
       "      <td>single</td>\n",
       "    </tr>\n",
       "    <tr>\n",
       "      <th>4</th>\n",
       "      <td>29</td>\n",
       "      <td>athletic</td>\n",
       "      <td>NaN</td>\n",
       "      <td>socially</td>\n",
       "      <td>never</td>\n",
       "      <td>graduated from college/university</td>\n",
       "      <td>hey how's it going? currently vague on the profile i know, more to\\ncome soon. looking to meet new folks outside of my circle of\\nfriends. i'm pretty responsive on the reply tip, feel free to drop\\na line. cheers.</td>\n",
       "      <td>work work work work + play</td>\n",
       "      <td>creating imagery to look at:&lt;br /&gt;\\nhttp://bagsbrown.blogspot.com/&lt;br /&gt;\\nhttp://stayruly.blogspot.com/</td>\n",
       "      <td>i smile a lot and my inquisitive nature</td>\n",
       "      <td>music: bands, rappers, musicians&lt;br /&gt;\\nat the moment: thee oh sees.&lt;br /&gt;\\nforever: wu-tang&lt;br /&gt;\\nbooks: artbooks for days&lt;br /&gt;\\naudiobooks: my collection, thick (thanks audible)&lt;br /&gt;\\nshows: live ones&lt;br /&gt;\\nfood: with stellar friends whenever&lt;br /&gt;\\nmovies &amp;gt; tv&lt;br /&gt;\\npodcast: radiolab, this american life, the moth, joe rogan, the\\nchamps</td>\n",
       "      <td>NaN</td>\n",
       "      <td>NaN</td>\n",
       "      <td>NaN</td>\n",
       "      <td>NaN</td>\n",
       "      <td>NaN</td>\n",
       "      <td>asian, black, other</td>\n",
       "      <td>66.0</td>\n",
       "      <td>-1</td>\n",
       "      <td>artistic / musical / writer</td>\n",
       "      <td>2012-06-27-21-26</td>\n",
       "      <td>san francisco, california</td>\n",
       "      <td>NaN</td>\n",
       "      <td>straight</td>\n",
       "      <td>likes dogs and likes cats</td>\n",
       "      <td>NaN</td>\n",
       "      <td>m</td>\n",
       "      <td>aquarius</td>\n",
       "      <td>no</td>\n",
       "      <td>english</td>\n",
       "      <td>single</td>\n",
       "    </tr>\n",
       "  </tbody>\n",
       "</table>\n",
       "</div>"
      ],
      "text/plain": [
       "   age       body_type               diet    drinks      drugs  \\\n",
       "0   22  a little extra  strictly anything  socially      never   \n",
       "1   35         average       mostly other     often  sometimes   \n",
       "2   38            thin           anything  socially        NaN   \n",
       "3   23            thin         vegetarian  socially        NaN   \n",
       "4   29        athletic                NaN  socially      never   \n",
       "\n",
       "                           education  \\\n",
       "0      working on college/university   \n",
       "1              working on space camp   \n",
       "2     graduated from masters program   \n",
       "3      working on college/university   \n",
       "4  graduated from college/university   \n",
       "\n",
       "                                                                                                                                                                                                                                                                                                                                                                                                                                                                                                                essay0  \\\n",
       "0  about me:<br />\\n<br />\\ni would love to think that i was some some kind of intellectual:\\neither the dumbest smart guy, or the smartest dumb guy. can't say i\\ncan tell the difference. i love to talk about ideas and concepts. i\\nforge odd metaphors instead of reciting cliches. like the\\nsimularities between a friend of mine's house and an underwater\\nsalt mine. my favorite word is salt by the way (weird choice i\\nknow). to me most things in life are better as metaphors. i seek to\\nmake mysel...   \n",
       "1  i am a chef: this is what that means.<br />\\n1. i am a workaholic.<br />\\n2. i love to cook regardless of whether i am at work.<br />\\n3. i love to drink and eat foods that are probably really bad for\\nme.<br />\\n4. i love being around people that resemble line 1-3.<br />\\ni love the outdoors and i am an avid skier. if its snowing i will\\nbe in tahoe at the very least. i am a very confident and friendly.\\ni'm not interested in acting or being a typical guy. i have no time\\nor patience for re...   \n",
       "2  i'm not ashamed of much, but writing public text on an online\\ndating site makes me pleasantly uncomfortable. i'll try to be as\\nearnest as possible in the noble endeavor of standing naked before\\nthe world.<br />\\n<br />\\ni've lived in san francisco for 15 years, and both love it and find\\nmyself frustrated with its deficits. lots of great friends and\\nacquaintances (which increases my apprehension to put anything on\\nthis site), but i'm feeling like meeting some new people that\\naren't jus...   \n",
       "3                                                                                                                                                                                                                                                                                                                                                                                                                                                                            i work in a library and go to school. . .   \n",
       "4                                                                                                                                                                                                                                                                                                hey how's it going? currently vague on the profile i know, more to\\ncome soon. looking to meet new folks outside of my circle of\\nfriends. i'm pretty responsive on the reply tip, feel free to drop\\na line. cheers.   \n",
       "\n",
       "                                                                                                                                                                                                                                                                                                                                                                                                                                                                                                                essay1  \\\n",
       "0                                                                                                                                                                                                                                              currently working as an international agent for a freight\\nforwarding company. import, export, domestic you know the\\nworks.<br />\\nonline classes and trying to better myself in my free time. perhaps\\na hours worth of a good book or a video game on a lazy sunday.   \n",
       "1                                                                                                                                                                                                                                                                                                                                                                                                                                                                 dedicating everyday to being an unbelievable badass.   \n",
       "2  i make nerdy software for musicians, artists, and experimenters to\\nindulge in their own weirdness, but i like to spend time away from\\nthe computer when working on my artwork (which is typically more\\nconcerned with group dynamics and communication, than with visual\\nform, objects, or technology). i also record and deejay dance,\\nnoise, pop, and experimental music (most of which electronic or at\\nleast studio based). besides these relatively ego driven\\nactivities, i've been enjoying things...   \n",
       "3                                                                                                                                                                                                                                                                                                                                                                                                                                                                            reading things written by old dead people   \n",
       "4                                                                                                                                                                                                                                                                                                                                                                                                                                                                                           work work work work + play   \n",
       "\n",
       "                                                                                                                                                                                                                                                                                                                                                                                                                                                                                essay2  \\\n",
       "0                                                                                                                                                                                                                                                                                                                                                     making people laugh.<br />\\nranting about a good salting.<br />\\nfinding simplicity in complexity, and complexity in simplicity.   \n",
       "1                                                                                                                                                                                                                                                                                                                                                                                    being silly. having ridiculous amonts of fun wherever. being a\\nsmart ass. ohh and i can cook. ;)   \n",
       "2  improvising in different contexts. alternating between being\\npresent and decidedly outside of a moment, or trying to hold both\\nat once. rambling intellectual conversations that hold said\\nconversations in contempt while seeking to find something that\\ntranscends them. being critical while remaining generous. listening\\nto and using body language--often performed in caricature or large\\ngestures, if not outright interpretive dance. dry, dark, and\\nraunchy humor.   \n",
       "3                                                                                                                                                                                                                                                                                                                                                                                playing synthesizers and organizing books according to the library\\nof congress classification system   \n",
       "4                                                                                                                                                                                                                                                                                                                                                                              creating imagery to look at:<br />\\nhttp://bagsbrown.blogspot.com/<br />\\nhttp://stayruly.blogspot.com/   \n",
       "\n",
       "                                                                                                                                                                                                                                                                   essay3  \\\n",
       "0                                                                                                                                           the way i look. i am a six foot half asian, half caucasian mutt. it\\nmakes it tough not to notice me, and for me to blend in.   \n",
       "1                                                                                                                                                                                                                                                                     NaN   \n",
       "2  my large jaw and large glasses are the physical things people\\ncomment on the most. when sufficiently stimulated, i have an\\nunmistakable cackle of a laugh. after that, it goes in more\\ndirections than i care to describe right now. maybe i'll come back\\nto this.   \n",
       "3                                                                                                                                                                                                                                       socially awkward but i do my best   \n",
       "4                                                                                                                                                                                                                                 i smile a lot and my inquisitive nature   \n",
       "\n",
       "                                                                                                                                                                                                                                                                                                                                                                                                                                                                                                                essay4  \\\n",
       "0                          books:<br />\\nabsurdistan, the republic, of mice and men (only book that made me\\nwant to cry), catcher in the rye, the prince.<br />\\n<br />\\nmovies:<br />\\ngladiator, operation valkyrie, the producers, down periscope.<br />\\n<br />\\nshows:<br />\\nthe borgia, arrested development, game of thrones, monty\\npython<br />\\n<br />\\nmusic:<br />\\naesop rock, hail mary mallon, george thorogood and the delaware\\ndestroyers, felt<br />\\n<br />\\nfood:<br />\\ni'm down for anything.   \n",
       "1                                                                                                                                                                                                                                                         i am die hard christopher moore fan. i don't really watch a lot of\\ntv unless there is humor involved. i am kind of stuck on 90's\\nalternative music. i am pretty much a fan of everything though... i\\ndo need to draw a line at most types of electronica.   \n",
       "2  okay this is where the cultural matrix gets so specific, it's like\\nbeing in the crosshairs.<br />\\n<br />\\nfor what it's worth, i find myself reading more non-fiction than\\nfiction. it's usually some kind of philosophy, art, or science text\\nby silly authors such as ranciere, de certeau, bataille,\\nbaudrillard, butler, stein, arendt, nietzche, zizek, etc. i'll\\noften throw in some weird new age or pop-psychology book in the mix\\nas well. as for fiction, i enjoy what little i've read of eco,...   \n",
       "3                                                                                                                                                                                                                                                                                                   bataille, celine, beckett. . .<br />\\nlynch, jarmusch, r.w. fassbender. . .<br />\\ntwin peaks &amp; fishing w/ john<br />\\njoy division, throbbing gristle, cabaret voltaire. . .<br />\\nvegetarian pho and coffee   \n",
       "4                                                                                                                                                        music: bands, rappers, musicians<br />\\nat the moment: thee oh sees.<br />\\nforever: wu-tang<br />\\nbooks: artbooks for days<br />\\naudiobooks: my collection, thick (thanks audible)<br />\\nshows: live ones<br />\\nfood: with stellar friends whenever<br />\\nmovies &gt; tv<br />\\npodcast: radiolab, this american life, the moth, joe rogan, the\\nchamps   \n",
       "\n",
       "                                                                                                                                                                                                                                                                                                                     essay5  \\\n",
       "0                                                                                                                                                                                                                                                                    food.<br />\\nwater.<br />\\ncell phone.<br />\\nshelter.   \n",
       "1  delicious porkness in all of its glories.<br />\\nmy big ass doughboy's sinking into 15 new inches.<br />\\nmy overly resilient liver.<br />\\na good sharp knife.<br />\\nmy ps3... it plays blurays too. ;)<br />\\nmy over the top energy and my outlook on life... just give me a bag\\nof lemons and see what happens. ;)   \n",
       "2                                                                                                                                                                                                                               movement<br />\\nconversation<br />\\ncreation<br />\\ncontemplation<br />\\ntouch<br />\\nhumor   \n",
       "3                                                                                                                                                                                                                                                                                                                       NaN   \n",
       "4                                                                                                                                                                                                                                                                                                                       NaN   \n",
       "\n",
       "                        essay6  \\\n",
       "0  duality and humorous things   \n",
       "1                          NaN   \n",
       "2                          NaN   \n",
       "3   cats and german philosophy   \n",
       "4                          NaN   \n",
       "\n",
       "                                                                            essay7  \\\n",
       "0  trying to find someone to hang out with. i am down for anything\\nexcept a club.   \n",
       "1                                                                              NaN   \n",
       "2                      viewing. listening. dancing. talking. drinking. performing.   \n",
       "3                                                                              NaN   \n",
       "4                                                                              NaN   \n",
       "\n",
       "                                                                     essay8  \\\n",
       "0  i am new to california and looking for someone to wisper my secrets\\nto.   \n",
       "1                        i am very open and will share just about anything.   \n",
       "2                when i was five years old, i was known as \"the boogerman\".   \n",
       "3                                                                       NaN   \n",
       "4                                                                       NaN   \n",
       "\n",
       "                                                                                                                                                                                                                                                                              essay9  \\\n",
       "0                                                                                                                       you want to be swept off your feet!<br />\\nyou are tired of the norm.<br />\\nyou want to catch a coffee or a bite.<br />\\nor if you want to talk philosophy.   \n",
       "1                                                                                                                                                                                                                                                                                NaN   \n",
       "2  you are bright, open, intense, silly, ironic, critical, caring,\\ngenerous, looking for an exploration, rather than finding \"a match\"\\nof some predetermined qualities.<br />\\n<br />\\ni'm currently in a fabulous and open relationship, so you should be\\ncomfortable with that.   \n",
       "3                                                                                                                                                                                                                                                              you feel so inclined.   \n",
       "4                                                                                                                                                                                                                                                                                NaN   \n",
       "\n",
       "             ethnicity  height  income                          job  \\\n",
       "0         asian, white    75.0      -1               transportation   \n",
       "1                white    70.0   80000         hospitality / travel   \n",
       "2                  NaN    68.0      -1                          NaN   \n",
       "3                white    71.0   20000                      student   \n",
       "4  asian, black, other    66.0      -1  artistic / musical / writer   \n",
       "\n",
       "        last_online                         location  \\\n",
       "0  2012-06-28-20-30  south san francisco, california   \n",
       "1  2012-06-29-21-41              oakland, california   \n",
       "2  2012-06-27-09-10        san francisco, california   \n",
       "3  2012-06-28-14-22             berkeley, california   \n",
       "4  2012-06-27-21-26        san francisco, california   \n",
       "\n",
       "                                      offspring orientation  \\\n",
       "0  doesn&rsquo;t have kids, but might want them    straight   \n",
       "1  doesn&rsquo;t have kids, but might want them    straight   \n",
       "2                                           NaN    straight   \n",
       "3                       doesn&rsquo;t want kids    straight   \n",
       "4                                           NaN    straight   \n",
       "\n",
       "                        pets                                  religion sex  \\\n",
       "0  likes dogs and likes cats     agnosticism and very serious about it   m   \n",
       "1  likes dogs and likes cats  agnosticism but not too serious about it   m   \n",
       "2                   has cats                                       NaN   m   \n",
       "3                 likes cats                                       NaN   m   \n",
       "4  likes dogs and likes cats                                       NaN   m   \n",
       "\n",
       "                                 sign     smokes  \\\n",
       "0                              gemini  sometimes   \n",
       "1                              cancer         no   \n",
       "2  pisces but it doesn&rsquo;t matter         no   \n",
       "3                              pisces         no   \n",
       "4                            aquarius         no   \n",
       "\n",
       "                                                  speaks     status  \n",
       "0                                                english     single  \n",
       "1  english (fluently), spanish (poorly), french (poorly)     single  \n",
       "2                                   english, french, c++  available  \n",
       "3                               english, german (poorly)     single  \n",
       "4                                                english     single  "
      ]
     },
     "execution_count": 5,
     "metadata": {},
     "output_type": "execute_result"
    }
   ],
   "source": [
    "#investigate first 5 rows\n",
    "df.head()"
   ]
  },
  {
   "cell_type": "code",
   "execution_count": 6,
   "metadata": {
    "nbpresent": {
     "id": "94af8538-1aac-4610-8619-9fe3eb83e907"
    },
    "slideshow": {
     "slide_type": "skip"
    }
   },
   "outputs": [
    {
     "name": "stdout",
     "output_type": "stream",
     "text": [
      "<class 'pandas.core.frame.DataFrame'>\n",
      "RangeIndex: 59946 entries, 0 to 59945\n",
      "Data columns (total 31 columns):\n",
      "age            59946 non-null int64\n",
      "body_type      54650 non-null object\n",
      "diet           35551 non-null object\n",
      "drinks         56961 non-null object\n",
      "drugs          45866 non-null object\n",
      "education      53318 non-null object\n",
      "essay0         54458 non-null object\n",
      "essay1         52374 non-null object\n",
      "essay2         50308 non-null object\n",
      "essay3         48470 non-null object\n",
      "essay4         49409 non-null object\n",
      "essay5         49096 non-null object\n",
      "essay6         46175 non-null object\n",
      "essay7         47495 non-null object\n",
      "essay8         40721 non-null object\n",
      "essay9         47343 non-null object\n",
      "ethnicity      54266 non-null object\n",
      "height         59943 non-null float64\n",
      "income         59946 non-null int64\n",
      "job            51748 non-null object\n",
      "last_online    59946 non-null object\n",
      "location       59946 non-null object\n",
      "offspring      24385 non-null object\n",
      "orientation    59946 non-null object\n",
      "pets           40025 non-null object\n",
      "religion       39720 non-null object\n",
      "sex            59946 non-null object\n",
      "sign           48890 non-null object\n",
      "smokes         54434 non-null object\n",
      "speaks         59896 non-null object\n",
      "status         59946 non-null object\n",
      "dtypes: float64(1), int64(2), object(28)\n",
      "memory usage: 14.2+ MB\n"
     ]
    }
   ],
   "source": [
    "#column types / null values\n",
    "#indicates that most rows have some null values excepts\n",
    "df.info()"
   ]
  },
  {
   "cell_type": "code",
   "execution_count": 7,
   "metadata": {
    "nbpresent": {
     "id": "64666708-a5ff-43c1-9a3f-8778f1cbbfeb"
    },
    "slideshow": {
     "slide_type": "skip"
    }
   },
   "outputs": [
    {
     "data": {
      "text/plain": [
       "single            55697\n",
       "seeing someone     2064\n",
       "available          1865\n",
       "married             310\n",
       "unknown              10\n",
       "Name: status, dtype: int64"
      ]
     },
     "execution_count": 7,
     "metadata": {},
     "output_type": "execute_result"
    }
   ],
   "source": [
    "df.status.value_counts()"
   ]
  },
  {
   "cell_type": "code",
   "execution_count": 8,
   "metadata": {
    "nbpresent": {
     "id": "0ce16fbd-3203-4ce6-a922-5f04622df3b6"
    },
    "slideshow": {
     "slide_type": "slide"
    }
   },
   "outputs": [
    {
     "data": {
      "image/png": "[encoded data removed]",
      "text/plain": [
       "<matplotlib.figure.Figure at 0x11665feb8>"
      ]
     },
     "metadata": {},
     "output_type": "display_data"
    }
   ],
   "source": [
    "df_status_sex = df.groupby('status')['sex'].count()\n",
    "df_status_sex\n",
    "plt.ylabel('Count')\n",
    "df_status_sex.plot(title='Status Profile Counts', kind='bar');\n",
    "plt.savefig('profilestatus')"
   ]
  },
  {
   "cell_type": "code",
   "execution_count": 9,
   "metadata": {
    "nbpresent": {
     "id": "6e42c318-745d-4452-8f50-bb23b77f7e92"
    },
    "slideshow": {
     "slide_type": "skip"
    }
   },
   "outputs": [
    {
     "data": {
      "text/plain": [
       "0"
      ]
     },
     "execution_count": 9,
     "metadata": {},
     "output_type": "execute_result"
    }
   ],
   "source": [
    "df.location.isnull().sum()"
   ]
  },
  {
   "cell_type": "code",
   "execution_count": 10,
   "metadata": {
    "nbpresent": {
     "id": "08bbc449-01b6-431f-b8dc-ae7e47862d7e"
    },
    "slideshow": {
     "slide_type": "skip"
    }
   },
   "outputs": [
    {
     "data": {
      "text/plain": [
       "san francisco, california          31064\n",
       "oakland, california                 7214\n",
       "berkeley, california                4212\n",
       "san mateo, california               1331\n",
       "palo alto, california               1064\n",
       "alameda, california                  910\n",
       "san rafael, california               755\n",
       "hayward, california                  747\n",
       "emeryville, california               738\n",
       "redwood city, california             693\n",
       "daly city, california                681\n",
       "san leandro, california              651\n",
       "walnut creek, california             644\n",
       "vallejo, california                  558\n",
       "menlo park, california               479\n",
       "richmond, california                 424\n",
       "south san francisco, california      416\n",
       "mountain view, california            384\n",
       "novato, california                   369\n",
       "burlingame, california               361\n",
       "pleasant hill, california            347\n",
       "castro valley, california            345\n",
       "stanford, california                 341\n",
       "el cerrito, california               325\n",
       "pacifica, california                 323\n",
       "martinez, california                 316\n",
       "mill valley, california              315\n",
       "san bruno, california                290\n",
       "san pablo, california                245\n",
       "belmont, california                  243\n",
       "                                   ...  \n",
       "milwaukee, wisconsin                   1\n",
       "jackson, mississippi                   1\n",
       "rohnert park, california               1\n",
       "ashland, california                    1\n",
       "campbell, california                   1\n",
       "las vegas, nevada                      1\n",
       "stockton, california                   1\n",
       "phoenix, arizona                       1\n",
       "costa mesa, california                 1\n",
       "muir beach, california                 1\n",
       "milpitas, california                   1\n",
       "peoria, illinois                       1\n",
       "magalia, california                    1\n",
       "leander, texas                         1\n",
       "olema, california                      1\n",
       "philadelphia, pennsylvania             1\n",
       "hilarita, california                   1\n",
       "south orange, new jersey               1\n",
       "kansas city, missouri                  1\n",
       "kassel, germany                        1\n",
       "new orleans, louisiana                 1\n",
       "riverside, california                  1\n",
       "crowley, texas                         1\n",
       "london, united kingdom                 1\n",
       "studio city, california                1\n",
       "brea, california                       1\n",
       "oakley, california                     1\n",
       "stratford, connecticut                 1\n",
       "pacheco, california                    1\n",
       "union city, california                 1\n",
       "Name: location, Length: 199, dtype: int64"
      ]
     },
     "execution_count": 10,
     "metadata": {},
     "output_type": "execute_result"
    }
   ],
   "source": [
    "df.location.value_counts()"
   ]
  },
  {
   "cell_type": "markdown",
   "metadata": {
    "nbpresent": {
     "id": "e85c9699-4b68-43e2-8879-d0a2dd635fd0"
    },
    "slideshow": {
     "slide_type": "skip"
    }
   },
   "source": [
    "#### Split the location to location_1 and location_2 to seperate city & state\n",
    "- split location by ',' into two columns\n",
    "- location_1 is generally a city with just a couple oulier counties\n",
    "- location_2 is generally a state with just a couple oulier counties"
   ]
  },
  {
   "cell_type": "code",
   "execution_count": 11,
   "metadata": {
    "nbpresent": {
     "id": "9798af44-fa8e-4f2e-93e8-6ee1efa39dd8"
    },
    "slideshow": {
     "slide_type": "skip"
    }
   },
   "outputs": [],
   "source": [
    "df_location = df[\"location\"].str.split(',',1, expand=True).rename(columns=lambda x: f\"location_{x+1}\")"
   ]
  },
  {
   "cell_type": "code",
   "execution_count": 12,
   "metadata": {
    "nbpresent": {
     "id": "817233dc-b5c0-4f91-8cb4-3dacde6257ce"
    },
    "slideshow": {
     "slide_type": "skip"
    }
   },
   "outputs": [
    {
     "name": "stdout",
     "output_type": "stream",
     "text": [
      "<class 'pandas.core.frame.DataFrame'>\n",
      "RangeIndex: 59946 entries, 0 to 59945\n",
      "Data columns (total 2 columns):\n",
      "location_1    59946 non-null object\n",
      "location_2    59946 non-null object\n",
      "dtypes: object(2)\n",
      "memory usage: 936.7+ KB\n"
     ]
    }
   ],
   "source": [
    "df_location.info()"
   ]
  },
  {
   "cell_type": "code",
   "execution_count": 13,
   "metadata": {
    "nbpresent": {
     "id": "0bcdfe06-3e70-4f01-86a3-97f5fbbfd06c"
    },
    "slideshow": {
     "slide_type": "skip"
    }
   },
   "outputs": [],
   "source": [
    "#add sex to location data\n",
    "df_location[\"sex\"] = df['sex'].astype(str)"
   ]
  },
  {
   "cell_type": "code",
   "execution_count": 14,
   "metadata": {
    "nbpresent": {
     "id": "8e941fcc-691e-4335-a420-e837baa857b0"
    },
    "slideshow": {
     "slide_type": "slide"
    }
   },
   "outputs": [
    {
     "data": {
      "image/png": "[encoded data removed]",
      "text/plain": [
       "<matplotlib.figure.Figure at 0x1a2776bef0>"
      ]
     },
     "metadata": {},
     "output_type": "display_data"
    }
   ],
   "source": [
    "#bar chart of location of the OK Cupid profiles\n",
    "df_location_sex = df_location.groupby('location_2')['sex'].count()\n",
    "plt.ylabel('Count')\n",
    "df_location_sex.plot(title='Status Profile Counts', kind='bar');\n",
    "plt.savefig('location')"
   ]
  },
  {
   "cell_type": "code",
   "execution_count": 15,
   "metadata": {
    "nbpresent": {
     "id": "e2ec5a1f-c300-45c1-8052-8969d1b32dd5"
    },
    "slideshow": {
     "slide_type": "slide"
    }
   },
   "outputs": [
    {
     "data": {
      "image/png": "[encoded data removed]",
      "text/plain": [
       "<matplotlib.figure.Figure at 0x1171ad7f0>"
      ]
     },
     "metadata": {},
     "output_type": "display_data"
    }
   ],
   "source": [
    "df_location_cali = df_location[df_location['location_2'].str.contains('california')]\n",
    "\n",
    "#bar chart of location of the OK Cupid profiles\n",
    "df_location_cali = df_location_cali.groupby('sex')['sex'].count()\n",
    "plt.ylabel('Count')\n",
    "df_location_cali.plot(title='M/F Profile Counts for California', kind='bar');\n",
    "plt.savefig('sex')"
   ]
  },
  {
   "cell_type": "code",
   "execution_count": 16,
   "metadata": {
    "nbpresent": {
     "id": "4ee69f8e-9691-475a-b117-9bc4ecc76f54"
    },
    "slideshow": {
     "slide_type": "skip"
    }
   },
   "outputs": [
    {
     "data": {
      "text/plain": [
       "doesn&rsquo;t have kids                                7560\n",
       "doesn&rsquo;t have kids, but might want them           3875\n",
       "doesn&rsquo;t have kids, but wants them                3565\n",
       "doesn&rsquo;t want kids                                2927\n",
       "has kids                                               1883\n",
       "has a kid                                              1881\n",
       "doesn&rsquo;t have kids, and doesn&rsquo;t want any    1132\n",
       "has kids, but doesn&rsquo;t want more                   442\n",
       "has a kid, but doesn&rsquo;t want more                  275\n",
       "has a kid, and might want more                          231\n",
       "wants kids                                              225\n",
       "might want kids                                         182\n",
       "has kids, and might want more                           115\n",
       "has a kid, and wants more                                71\n",
       "has kids, and wants more                                 21\n",
       "Name: offspring, dtype: int64"
      ]
     },
     "execution_count": 16,
     "metadata": {},
     "output_type": "execute_result"
    }
   ],
   "source": [
    "#value counts of offspring\n",
    "df.offspring.value_counts()"
   ]
  },
  {
   "cell_type": "code",
   "execution_count": 17,
   "metadata": {
    "nbpresent": {
     "id": "d1371938-0c6a-49cd-9e6a-873f57d4ca01"
    },
    "slideshow": {
     "slide_type": "skip"
    }
   },
   "outputs": [],
   "source": [
    "#clean up html code in string\n",
    "df.offspring = df['offspring'].replace('&rsquo;','', regex=True)"
   ]
  },
  {
   "cell_type": "code",
   "execution_count": 18,
   "metadata": {
    "nbpresent": {
     "id": "036311ac-833a-47b4-ba5f-1b6607a6040a"
    },
    "slideshow": {
     "slide_type": "skip"
    }
   },
   "outputs": [
    {
     "name": "stdout",
     "output_type": "stream",
     "text": [
      "doesnt have kids                         7560\n",
      "doesnt have kids, but might want them    3875\n",
      "doesnt have kids, but wants them         3565\n",
      "doesnt want kids                         2927\n",
      "has kids                                 1883\n",
      "has a kid                                1881\n",
      "doesnt have kids, and doesnt want any    1132\n",
      "has kids, but doesnt want more            442\n",
      "has a kid, but doesnt want more           275\n",
      "has a kid, and might want more            231\n",
      "wants kids                                225\n",
      "might want kids                           182\n",
      "has kids, and might want more             115\n",
      "has a kid, and wants more                  71\n",
      "has kids, and wants more                   21\n",
      "Name: offspring, dtype: int64\n"
     ]
    }
   ],
   "source": [
    "#validate cleanup\n",
    "print(df.offspring.value_counts())"
   ]
  },
  {
   "cell_type": "markdown",
   "metadata": {
    "nbpresent": {
     "id": "da342d4d-c661-4021-8582-75c375c9cd64"
    },
    "slideshow": {
     "slide_type": "slide"
    }
   },
   "source": [
    "#### Data Conversion: Offspring to Reason\n",
    "- casual = Anyone who does not have kids and doesn't indicate that they want kids\n",
    "- family = Anyone with kids who wants more kids\n",
    "- partnership = Anyone with kids who may want more kids\n",
    "- sexual = Anyone with no kids and doesn't want kids\n",
    "\n",
    "To further refine my data I decided to group sexual and casual into a single group. I also grouped partnership and family into a single group. "
   ]
  },
  {
   "cell_type": "code",
   "execution_count": 19,
   "metadata": {
    "nbpresent": {
     "id": "e3d1a1c3-0eb2-4032-8dfa-aa399e91ee20"
    },
    "slideshow": {
     "slide_type": "slide"
    }
   },
   "outputs": [],
   "source": [
    "#offspring to reason mapping\n",
    "df['reason'] = df.offspring.map({\"doesnt have kids\": 'casual', \n",
    "                              \"doesnt have kids, but might want them\": 'partnership',\n",
    "                              \"doesnt have kids, but wants them\": 'family',\n",
    "                              \"doesnt want kids\": 'sexual',\n",
    "                              \"has kids\": 'partnership', \n",
    "                              \"has a kid\": 'partnership', \n",
    "                              \"doesnt have kids, and doesnt want any\": 'sexual', \n",
    "                              \"has kids, but doesnt want more\": 'partnership', \n",
    "                              \"has a kid, and might want more\": 'family', \n",
    "                              \"wants kids\": 'family',\n",
    "                              \"might want kids\": 'partnership',\n",
    "                              \"has a kid, and might want more\": 'partnership', \n",
    "                              \"has a kid, and wants more\": 'family', \n",
    "                              \"has kids, and wants more\": 'family',\n",
    "                              \"has kids, and might want more\": 'partnership',\n",
    "                              \"has a kid, but doesnt want more\": 'partnership'})"
   ]
  },
  {
   "cell_type": "code",
   "execution_count": 20,
   "metadata": {
    "nbpresent": {
     "id": "281ec00d-2917-4546-8aec-6ec6e1a5270e"
    },
    "slideshow": {
     "slide_type": "skip"
    }
   },
   "outputs": [
    {
     "data": {
      "text/plain": [
       "partnership    8884\n",
       "casual         7560\n",
       "sexual         4059\n",
       "family         3882\n",
       "Name: reason, dtype: int64"
      ]
     },
     "execution_count": 20,
     "metadata": {},
     "output_type": "execute_result"
    }
   ],
   "source": [
    "df.offspring.value_counts()\n",
    "df.reason.value_counts()"
   ]
  },
  {
   "cell_type": "code",
   "execution_count": 21,
   "metadata": {
    "nbpresent": {
     "id": "c0605dfa-f101-4eb5-8c02-463bb1903bb7"
    },
    "slideshow": {
     "slide_type": "slide"
    }
   },
   "outputs": [
    {
     "data": {
      "image/png": "[encoded data removed]",
      "text/plain": [
       "<matplotlib.figure.Figure at 0x119313e10>"
      ]
     },
     "metadata": {},
     "output_type": "display_data"
    }
   ],
   "source": [
    "#create histogram\n",
    "df.reason.hist();\n",
    "plt.title(\"Reason for Being on OKCupid\")\n",
    "plt.xlabel('Reason')\n",
    "plt.ylabel(\"Frequency\")\n",
    "plt.savefig('partnership')\n",
    "plt.show()"
   ]
  },
  {
   "cell_type": "code",
   "execution_count": 22,
   "metadata": {
    "nbpresent": {
     "id": "b76be05e-303a-4c1e-824a-39f2f43a23bc"
    },
    "slideshow": {
     "slide_type": "skip"
    }
   },
   "outputs": [],
   "source": [
    "#offspring to reason mapping\n",
    "df['reason'] = df.offspring.map({\"doesnt have kids\": 'casual', \n",
    "                              \"doesnt have kids, but might want them\": 'partnership',\n",
    "                              \"doesnt have kids, but wants them\": 'partnership',\n",
    "                              \"doesnt want kids\": 'casual',\n",
    "                              \"has kids\": 'partnership', \n",
    "                              \"has a kid\": 'partnership', \n",
    "                              \"doesnt have kids, and doesnt want any\": 'casual', \n",
    "                              \"has kids, but doesnt want more\": 'partnership', \n",
    "                              \"has a kid, and might want more\": 'partnership', \n",
    "                              \"wants kids\": 'partnership',\n",
    "                              \"might want kids\": 'partnership',\n",
    "                              \"has a kid, and might want more\": 'partnership', \n",
    "                              \"has a kid, and wants more\": 'partnership', \n",
    "                              \"has kids, and wants more\": 'partnership',\n",
    "                              \"has kids, and might want more\": 'partnership',\n",
    "                              \"has a kid, but doesnt want more\": 'partnership'})"
   ]
  },
  {
   "cell_type": "code",
   "execution_count": 23,
   "metadata": {
    "nbpresent": {
     "id": "5e82a345-d32e-4c8e-8b9b-d32e16d0d954"
    },
    "slideshow": {
     "slide_type": "skip"
    }
   },
   "outputs": [
    {
     "data": {
      "text/plain": [
       "partnership    12766\n",
       "casual         11619\n",
       "Name: reason, dtype: int64"
      ]
     },
     "execution_count": 23,
     "metadata": {},
     "output_type": "execute_result"
    }
   ],
   "source": [
    "df.offspring.value_counts()\n",
    "df.reason.value_counts()"
   ]
  },
  {
   "cell_type": "code",
   "execution_count": 24,
   "metadata": {
    "nbpresent": {
     "id": "811eab6e-67ad-4795-a2a3-7089abf266ba"
    },
    "slideshow": {
     "slide_type": "slide"
    }
   },
   "outputs": [
    {
     "data": {
      "image/png": "[encoded data removed]",
      "text/plain": [
       "<matplotlib.figure.Figure at 0x1a2776bf60>"
      ]
     },
     "metadata": {},
     "output_type": "display_data"
    }
   ],
   "source": [
    "#create histogram / combined values into two groupings\n",
    "df.reason.hist();\n",
    "plt.title(\"Reason for Being on OKCupid\")\n",
    "plt.xlabel('Reason')\n",
    "plt.ylabel(\"Frequency\")\n",
    "plt.savefig('profilestatusII')\n",
    "plt.show()"
   ]
  },
  {
   "cell_type": "markdown",
   "metadata": {
    "nbpresent": {
     "id": "9e7be579-2dc3-4bf8-b13f-2747abab02f9"
    },
    "slideshow": {
     "slide_type": "slide"
    }
   },
   "source": [
    "# The Questions\n",
    "\n",
    "After looking at this data I became very curious as to why people are on this dating website. I took a look at status and offspring and found that most people are single but there are many people with various thoughts on \"offspring\". After thinking about this a bit I classified offspring into a column called reason. In short based on a persons thoughts about wanting children or not I formulate a mapping for casual, family, partnership and sexual to categorize peoples aims or reason for being on OKCupid. I then grouped them into two groupings casual and partnership really to indicate those just seeking romatic encounters or are really unsure why they are on the site vs. those that have kids or really want kids, but don't want to go at it alone! "
   ]
  },
  {
   "cell_type": "markdown",
   "metadata": {
    "slideshow": {
     "slide_type": "subslide"
    }
   },
   "source": [
    "### Question 1: Can I perdict the type of relationship or reason why someone is on OKCupid?\n",
    "\n",
    "- Methods: KNN & SVM"
   ]
  },
  {
   "cell_type": "markdown",
   "metadata": {
    "slideshow": {
     "slide_type": "subslide"
    }
   },
   "source": [
    "### Question 2: Can I predict the income for a given profile?\n",
    "\n",
    "The second questions is less interesting but necessary to complete the homework. Can I predict the income someone based on most of the same factors used to determine the reason they are on OKCupid?\n",
    "\n",
    "- Methods: Linear Regression & KNN Regression"
   ]
  },
  {
   "cell_type": "markdown",
   "metadata": {
    "slideshow": {
     "slide_type": "slide"
    }
   },
   "source": [
    "# Data Preperation "
   ]
  },
  {
   "cell_type": "markdown",
   "metadata": {
    "nbpresent": {
     "id": "a5ad70f1-4834-4446-afe8-08d25b0ee625"
    },
    "slideshow": {
     "slide_type": "slide"
    }
   },
   "source": [
    "To answer my question I will\n",
    "-  Calucatate sentiment score for essay question 0 and 1 as they tend to pierce the pshcy a bit\n",
    "-  I will use my logical mapping of offspring to reason code\n",
    "-  I will map categorical into numerical data to satisfy the project requirements \n",
    "-  age, sex, status, income will be used as is for my analysis\n",
    "-  I will remove nulls, duplicates and normalize my data for classification and regression"
   ]
  },
  {
   "cell_type": "code",
   "execution_count": 25,
   "metadata": {
    "nbpresent": {
     "id": "53ef6046-77f1-4091-9714-a0a2d80f9c92"
    },
    "slideshow": {
     "slide_type": "skip"
    }
   },
   "outputs": [],
   "source": [
    "#copy data and columns needed for analysis\n",
    "df_ml = df[[\"age\", \"sex\", \"status\", \"drugs\", \"reason\",\"essay0\", \"essay1\"]].copy()"
   ]
  },
  {
   "cell_type": "markdown",
   "metadata": {
    "nbpresent": {
     "id": "eef31076-275d-4349-94f0-671abe468bc7"
    },
    "slideshow": {
     "slide_type": "slide"
    }
   },
   "source": [
    "#### The original dataset had 59946 records. After dropping the null/na records we are left with 16220 records after clean up."
   ]
  },
  {
   "cell_type": "code",
   "execution_count": 26,
   "metadata": {
    "nbpresent": {
     "id": "be4ca5e1-03f8-47f3-84ca-f406a34279da"
    },
    "slideshow": {
     "slide_type": "skip"
    }
   },
   "outputs": [
    {
     "data": {
      "text/plain": [
       "(59946, 7)"
      ]
     },
     "execution_count": 26,
     "metadata": {},
     "output_type": "execute_result"
    }
   ],
   "source": [
    "# This is the code for clean up and validation of removing null/na values\n",
    "#Row count\n",
    "df_ml.shape"
   ]
  },
  {
   "cell_type": "code",
   "execution_count": 27,
   "metadata": {
    "nbpresent": {
     "id": "d0518085-cc6d-402e-860c-2f241cf5a395"
    },
    "slideshow": {
     "slide_type": "skip"
    }
   },
   "outputs": [
    {
     "data": {
      "text/plain": [
       "(16220, 7)"
      ]
     },
     "execution_count": 27,
     "metadata": {},
     "output_type": "execute_result"
    }
   ],
   "source": [
    "#drop na values\n",
    "df_ml.dropna(inplace=True)\n",
    "#drop duplicate values (there were none)\n",
    "df_ml.drop_duplicates(inplace=True)\n",
    "#count rows\n",
    "df_ml.shape"
   ]
  },
  {
   "cell_type": "markdown",
   "metadata": {
    "nbpresent": {
     "id": "1636c729-cbc5-4c12-a51e-8eca4b834980"
    },
    "slideshow": {
     "slide_type": "skip"
    }
   },
   "source": [
    "### Prepare Essay questions and get VADER compound sentiment score for Positive or Negative Sentiment"
   ]
  },
  {
   "cell_type": "markdown",
   "metadata": {
    "slideshow": {
     "slide_type": "slide"
    }
   },
   "source": [
    "To get NLP scores for the essay questions I chose to use the VADER compound score. To do this I..\n",
    "- cleaned up all of the html code in the essays\n",
    "- used the VADER sentiment analyer\n",
    "- captured the results and added to my dataframe"
   ]
  },
  {
   "cell_type": "markdown",
   "metadata": {
    "nbpresent": {
     "id": "08885dfe-36cf-4561-9171-a7322f53ea3d"
    },
    "slideshow": {
     "slide_type": "skip"
    }
   },
   "source": [
    "#### Clean up html code in the essay questions "
   ]
  },
  {
   "cell_type": "code",
   "execution_count": 28,
   "metadata": {
    "nbpresent": {
     "id": "2f2b22d3-b878-4a4e-a5e5-709d784b9070"
    },
    "slideshow": {
     "slide_type": "skip"
    }
   },
   "outputs": [],
   "source": [
    "# Removing the hmtl code\n",
    "df_ml['essay0'] = df_ml['essay0'].replace('[^A-Za-z0-9]+',' ', regex=True)\n",
    "df_ml['essay1'] = df_ml['essay1'].replace('[^A-Za-z0-9]+',' ', regex=True)"
   ]
  },
  {
   "cell_type": "markdown",
   "metadata": {
    "nbpresent": {
     "id": "b123687e-7502-4dfe-a132-aad172d8a920"
    },
    "slideshow": {
     "slide_type": "skip"
    }
   },
   "source": [
    "#### Get vader compound score for sentiment"
   ]
  },
  {
   "cell_type": "code",
   "execution_count": 29,
   "metadata": {
    "nbpresent": {
     "id": "f5d2c532-2408-4e80-93e0-41ac9ccb8286"
    },
    "slideshow": {
     "slide_type": "skip"
    }
   },
   "outputs": [],
   "source": [
    "compval0= []\n",
    "compval1= []"
   ]
  },
  {
   "cell_type": "code",
   "execution_count": 30,
   "metadata": {
    "nbpresent": {
     "id": "efa9cbf6-a95b-4590-831f-04bc8c03daf9"
    },
    "slideshow": {
     "slide_type": "slide"
    }
   },
   "outputs": [
    {
     "name": "stdout",
     "output_type": "stream",
     "text": [
      "--- Time to run code: 49.31493902206421 seconds ---\n"
     ]
    }
   ],
   "source": [
    "start_time = time.time()\n",
    "\n",
    "sid = SentimentIntensityAnalyzer()\n",
    "i = 0 #counter\n",
    "while (i<len(df_ml.essay0)):\n",
    "    #essay0 score\n",
    "    ss0  = sid.polarity_scores(df_ml.iloc[i]['essay0'])\n",
    "    #append to list\n",
    "    compval0.append(ss0['compound'])\n",
    "    #essay1 score\n",
    "    ss1  = sid.polarity_scores(df_ml.iloc[i]['essay1'])\n",
    "    #append to list\n",
    "    compval1.append(ss1['compound'])\n",
    "    i += 1\n",
    "\n",
    "print(\"--- Time to run code: %s seconds ---\" % (time.time() - start_time))"
   ]
  },
  {
   "cell_type": "code",
   "execution_count": 31,
   "metadata": {
    "nbpresent": {
     "id": "e500f366-7cc0-4a94-b409-0fc86d6778ea"
    },
    "slideshow": {
     "slide_type": "skip"
    }
   },
   "outputs": [],
   "source": [
    "#convert to np array\n",
    "compval00 = np.array(compval0)\n",
    "compval11 = np.array(compval1)"
   ]
  },
  {
   "cell_type": "code",
   "execution_count": 32,
   "metadata": {
    "nbpresent": {
     "id": "0c01302c-987e-4858-8e6c-7dc38aa060d2"
    },
    "slideshow": {
     "slide_type": "skip"
    }
   },
   "outputs": [],
   "source": [
    "#add to df_ml\n",
    "df_ml['essay0'] = compval00\n",
    "df_ml['essay1'] = compval11"
   ]
  },
  {
   "cell_type": "code",
   "execution_count": 33,
   "metadata": {
    "nbpresent": {
     "id": "a23585ea-7278-4bc0-942a-d50124d794ef"
    },
    "slideshow": {
     "slide_type": "skip"
    }
   },
   "outputs": [
    {
     "data": {
      "text/html": [
       "<div>\n",
       "<style scoped>\n",
       "    .dataframe tbody tr th:only-of-type {\n",
       "        vertical-align: middle;\n",
       "    }\n",
       "\n",
       "    .dataframe tbody tr th {\n",
       "        vertical-align: top;\n",
       "    }\n",
       "\n",
       "    .dataframe thead th {\n",
       "        text-align: right;\n",
       "    }\n",
       "</style>\n",
       "<table border=\"1\" class=\"dataframe\">\n",
       "  <thead>\n",
       "    <tr style=\"text-align: right;\">\n",
       "      <th></th>\n",
       "      <th>age</th>\n",
       "      <th>sex</th>\n",
       "      <th>status</th>\n",
       "      <th>drugs</th>\n",
       "      <th>reason</th>\n",
       "      <th>essay0</th>\n",
       "      <th>essay1</th>\n",
       "    </tr>\n",
       "  </thead>\n",
       "  <tbody>\n",
       "    <tr>\n",
       "      <th>0</th>\n",
       "      <td>22</td>\n",
       "      <td>m</td>\n",
       "      <td>single</td>\n",
       "      <td>never</td>\n",
       "      <td>partnership</td>\n",
       "      <td>0.9916</td>\n",
       "      <td>0.8176</td>\n",
       "    </tr>\n",
       "    <tr>\n",
       "      <th>1</th>\n",
       "      <td>35</td>\n",
       "      <td>m</td>\n",
       "      <td>single</td>\n",
       "      <td>sometimes</td>\n",
       "      <td>partnership</td>\n",
       "      <td>0.9794</td>\n",
       "      <td>0.0516</td>\n",
       "    </tr>\n",
       "    <tr>\n",
       "      <th>17</th>\n",
       "      <td>26</td>\n",
       "      <td>f</td>\n",
       "      <td>single</td>\n",
       "      <td>never</td>\n",
       "      <td>casual</td>\n",
       "      <td>0.9049</td>\n",
       "      <td>-0.4019</td>\n",
       "    </tr>\n",
       "    <tr>\n",
       "      <th>19</th>\n",
       "      <td>33</td>\n",
       "      <td>m</td>\n",
       "      <td>single</td>\n",
       "      <td>never</td>\n",
       "      <td>casual</td>\n",
       "      <td>0.9963</td>\n",
       "      <td>0.9371</td>\n",
       "    </tr>\n",
       "    <tr>\n",
       "      <th>21</th>\n",
       "      <td>22</td>\n",
       "      <td>f</td>\n",
       "      <td>single</td>\n",
       "      <td>never</td>\n",
       "      <td>partnership</td>\n",
       "      <td>0.8720</td>\n",
       "      <td>0.9142</td>\n",
       "    </tr>\n",
       "  </tbody>\n",
       "</table>\n",
       "</div>"
      ],
      "text/plain": [
       "    age sex  status      drugs       reason  essay0  essay1\n",
       "0    22   m  single      never  partnership  0.9916  0.8176\n",
       "1    35   m  single  sometimes  partnership  0.9794  0.0516\n",
       "17   26   f  single      never       casual  0.9049 -0.4019\n",
       "19   33   m  single      never       casual  0.9963  0.9371\n",
       "21   22   f  single      never  partnership  0.8720  0.9142"
      ]
     },
     "execution_count": 33,
     "metadata": {},
     "output_type": "execute_result"
    }
   ],
   "source": [
    "df_ml.head()"
   ]
  },
  {
   "cell_type": "code",
   "execution_count": 34,
   "metadata": {
    "nbpresent": {
     "id": "62e0daf0-5388-4979-a393-92f0bc4c8796"
    },
    "slideshow": {
     "slide_type": "skip"
    }
   },
   "outputs": [
    {
     "data": {
      "text/html": [
       "<div>\n",
       "<style scoped>\n",
       "    .dataframe tbody tr th:only-of-type {\n",
       "        vertical-align: middle;\n",
       "    }\n",
       "\n",
       "    .dataframe tbody tr th {\n",
       "        vertical-align: top;\n",
       "    }\n",
       "\n",
       "    .dataframe thead th {\n",
       "        text-align: right;\n",
       "    }\n",
       "</style>\n",
       "<table border=\"1\" class=\"dataframe\">\n",
       "  <thead>\n",
       "    <tr style=\"text-align: right;\">\n",
       "      <th></th>\n",
       "      <th>age</th>\n",
       "      <th>sex</th>\n",
       "      <th>status</th>\n",
       "      <th>drugs</th>\n",
       "      <th>reason</th>\n",
       "      <th>essay0</th>\n",
       "      <th>essay1</th>\n",
       "    </tr>\n",
       "  </thead>\n",
       "  <tbody>\n",
       "  </tbody>\n",
       "</table>\n",
       "</div>"
      ],
      "text/plain": [
       "Empty DataFrame\n",
       "Columns: [age, sex, status, drugs, reason, essay0, essay1]\n",
       "Index: []"
      ]
     },
     "execution_count": 34,
     "metadata": {},
     "output_type": "execute_result"
    }
   ],
   "source": [
    "\n",
    "#drop offspring column\n",
    "#df_ml = df_ml.drop(['offspring'], axis=1)\n",
    "\n",
    "df_ml[df_ml.isnull().any(axis=1)]"
   ]
  },
  {
   "cell_type": "code",
   "execution_count": 35,
   "metadata": {
    "nbpresent": {
     "id": "b8ca7c0d-64db-4c34-bd4d-3abcc12faa7d"
    },
    "slideshow": {
     "slide_type": "slide"
    }
   },
   "outputs": [
    {
     "data": {
      "image/png": "[encoded data removed]",
      "text/plain": [
       "<matplotlib.figure.Figure at 0x1a2776bc88>"
      ]
     },
     "metadata": {},
     "output_type": "display_data"
    }
   ],
   "source": [
    "#create histogram\n",
    "df_ml.essay0.hist();\n",
    "plt.title(\"Vader Compound Score for Essay0\")\n",
    "plt.xlabel('Vader Compound Score')\n",
    "plt.ylabel(\"Frequency\")\n",
    "plt.show()"
   ]
  },
  {
   "cell_type": "code",
   "execution_count": 36,
   "metadata": {
    "nbpresent": {
     "id": "3a5b7ef3-c0d3-42f7-be33-2c034acf81f6"
    },
    "slideshow": {
     "slide_type": "slide"
    }
   },
   "outputs": [
    {
     "data": {
      "image/png": "[encoded data removed]",
      "text/plain": [
       "<matplotlib.figure.Figure at 0x119c84828>"
      ]
     },
     "metadata": {},
     "output_type": "display_data"
    }
   ],
   "source": [
    "#create histogram\n",
    "df_ml.boxplot(column=['essay1'], by=['sex']);\n",
    "plt.title(\"Vader Compound Score for Essay1\")\n",
    "plt.xlabel('Sex')\n",
    "plt.ylabel(\"Compound Score\")\n",
    "plt.title('')\n",
    "plt.show()"
   ]
  },
  {
   "cell_type": "markdown",
   "metadata": {
    "slideshow": {
     "slide_type": "slide"
    }
   },
   "source": [
    "# Map categorical data to numerical\n",
    "\n",
    "- I mapped reason, drug and sex into numerical codes for my anlysis"
   ]
  },
  {
   "cell_type": "markdown",
   "metadata": {
    "nbpresent": {
     "id": "c4c31c0b-6faf-4637-898e-a392cedac782"
    },
    "slideshow": {
     "slide_type": "skip"
    }
   },
   "source": [
    "### Create numerical columns from categorical \"reason\" column"
   ]
  },
  {
   "cell_type": "code",
   "execution_count": 37,
   "metadata": {
    "nbpresent": {
     "id": "413aadaf-8ccb-42a5-bac7-5aa1ed4f69bc"
    },
    "slideshow": {
     "slide_type": "fragment"
    }
   },
   "outputs": [],
   "source": [
    "# Create numerical columns from categorical \"reason\" column\n",
    "df_ml['reason_code'] = df_ml.reason.map({\"casual\": 0, \"partnership\": 1})"
   ]
  },
  {
   "cell_type": "markdown",
   "metadata": {
    "nbpresent": {
     "id": "7d050e38-2d7b-43e5-85e3-ab66728a5c89"
    },
    "slideshow": {
     "slide_type": "skip"
    }
   },
   "source": [
    "### Create numerical columns from categorical \"drug\" column"
   ]
  },
  {
   "cell_type": "code",
   "execution_count": 38,
   "metadata": {
    "nbpresent": {
     "id": "c2cff937-295e-4020-b730-7b5073e40e25"
    },
    "slideshow": {
     "slide_type": "fragment"
    }
   },
   "outputs": [],
   "source": [
    "# Create numerical columns from categorical \"drug\" column\n",
    "df_ml['drug_code'] = df_ml.drugs.map({\"never\": 0, \"sometimes\": 1, \"often\": 2})"
   ]
  },
  {
   "cell_type": "code",
   "execution_count": 39,
   "metadata": {
    "slideshow": {
     "slide_type": "skip"
    }
   },
   "outputs": [],
   "source": [
    "#drop drugs column\n",
    "df_ml = df_ml.drop(['drugs'], axis=1)"
   ]
  },
  {
   "cell_type": "markdown",
   "metadata": {
    "nbpresent": {
     "id": "4081f8fd-9843-40d1-aeba-aa72b8ea10fa"
    },
    "slideshow": {
     "slide_type": "skip"
    }
   },
   "source": [
    "### Create numerical columns from categorical \"sex\" column"
   ]
  },
  {
   "cell_type": "code",
   "execution_count": 40,
   "metadata": {
    "nbpresent": {
     "id": "261178ab-527a-4649-9454-d286d7c4920d"
    },
    "slideshow": {
     "slide_type": "fragment"
    }
   },
   "outputs": [],
   "source": [
    "# Create numerical columns from categorical \"sex\" column\n",
    "df_ml['sex_code'] = df_ml.sex.map({\"f\": 0, \"m\": 1})"
   ]
  },
  {
   "cell_type": "code",
   "execution_count": 41,
   "metadata": {
    "slideshow": {
     "slide_type": "skip"
    }
   },
   "outputs": [],
   "source": [
    "#drop drugs column\n",
    "df_ml = df_ml.drop(['sex'], axis=1)"
   ]
  },
  {
   "cell_type": "code",
   "execution_count": 42,
   "metadata": {
    "nbpresent": {
     "id": "00c8f616-051c-417e-b9b6-136edc11c47c"
    },
    "slideshow": {
     "slide_type": "skip"
    }
   },
   "outputs": [
    {
     "data": {
      "text/html": [
       "<div>\n",
       "<style scoped>\n",
       "    .dataframe tbody tr th:only-of-type {\n",
       "        vertical-align: middle;\n",
       "    }\n",
       "\n",
       "    .dataframe tbody tr th {\n",
       "        vertical-align: top;\n",
       "    }\n",
       "\n",
       "    .dataframe thead th {\n",
       "        text-align: right;\n",
       "    }\n",
       "</style>\n",
       "<table border=\"1\" class=\"dataframe\">\n",
       "  <thead>\n",
       "    <tr style=\"text-align: right;\">\n",
       "      <th></th>\n",
       "      <th>age</th>\n",
       "      <th>status</th>\n",
       "      <th>reason</th>\n",
       "      <th>essay0</th>\n",
       "      <th>essay1</th>\n",
       "      <th>reason_code</th>\n",
       "      <th>drug_code</th>\n",
       "      <th>sex_code</th>\n",
       "    </tr>\n",
       "  </thead>\n",
       "  <tbody>\n",
       "    <tr>\n",
       "      <th>0</th>\n",
       "      <td>22</td>\n",
       "      <td>single</td>\n",
       "      <td>partnership</td>\n",
       "      <td>0.9916</td>\n",
       "      <td>0.8176</td>\n",
       "      <td>1</td>\n",
       "      <td>0</td>\n",
       "      <td>1</td>\n",
       "    </tr>\n",
       "    <tr>\n",
       "      <th>1</th>\n",
       "      <td>35</td>\n",
       "      <td>single</td>\n",
       "      <td>partnership</td>\n",
       "      <td>0.9794</td>\n",
       "      <td>0.0516</td>\n",
       "      <td>1</td>\n",
       "      <td>1</td>\n",
       "      <td>1</td>\n",
       "    </tr>\n",
       "    <tr>\n",
       "      <th>17</th>\n",
       "      <td>26</td>\n",
       "      <td>single</td>\n",
       "      <td>casual</td>\n",
       "      <td>0.9049</td>\n",
       "      <td>-0.4019</td>\n",
       "      <td>0</td>\n",
       "      <td>0</td>\n",
       "      <td>0</td>\n",
       "    </tr>\n",
       "    <tr>\n",
       "      <th>19</th>\n",
       "      <td>33</td>\n",
       "      <td>single</td>\n",
       "      <td>casual</td>\n",
       "      <td>0.9963</td>\n",
       "      <td>0.9371</td>\n",
       "      <td>0</td>\n",
       "      <td>0</td>\n",
       "      <td>1</td>\n",
       "    </tr>\n",
       "    <tr>\n",
       "      <th>21</th>\n",
       "      <td>22</td>\n",
       "      <td>single</td>\n",
       "      <td>partnership</td>\n",
       "      <td>0.8720</td>\n",
       "      <td>0.9142</td>\n",
       "      <td>1</td>\n",
       "      <td>0</td>\n",
       "      <td>0</td>\n",
       "    </tr>\n",
       "  </tbody>\n",
       "</table>\n",
       "</div>"
      ],
      "text/plain": [
       "    age  status       reason  essay0  essay1  reason_code  drug_code  sex_code\n",
       "0    22  single  partnership  0.9916  0.8176            1          0         1\n",
       "1    35  single  partnership  0.9794  0.0516            1          1         1\n",
       "17   26  single       casual  0.9049 -0.4019            0          0         0\n",
       "19   33  single       casual  0.9963  0.9371            0          0         1\n",
       "21   22  single  partnership  0.8720  0.9142            1          0         0"
      ]
     },
     "execution_count": 42,
     "metadata": {},
     "output_type": "execute_result"
    }
   ],
   "source": [
    "df_ml.head()"
   ]
  },
  {
   "cell_type": "markdown",
   "metadata": {
    "nbpresent": {
     "id": "9c5827d6-ff02-4545-b8ba-85168505e088"
    },
    "slideshow": {
     "slide_type": "slide"
    }
   },
   "source": [
    "### Normalize the numerical data"
   ]
  },
  {
   "cell_type": "code",
   "execution_count": 43,
   "metadata": {
    "nbpresent": {
     "id": "e17a2aa2-641e-4d7d-8ac3-fad51fd6ca30"
    },
    "slideshow": {
     "slide_type": "skip"
    }
   },
   "outputs": [],
   "source": [
    "from sklearn.preprocessing import MinMaxScaler"
   ]
  },
  {
   "cell_type": "code",
   "execution_count": 44,
   "metadata": {
    "nbpresent": {
     "id": "53b6a0c3-88e5-456a-bac2-615f7ad0b4eb"
    },
    "slideshow": {
     "slide_type": "slide"
    }
   },
   "outputs": [
    {
     "name": "stdout",
     "output_type": "stream",
     "text": [
      "--- Time to run code: 0.003171205520629883 seconds ---\n"
     ]
    },
    {
     "name": "stderr",
     "output_type": "stream",
     "text": [
      "/Users/paulrichardson/anaconda3/lib/python3.6/site-packages/sklearn/utils/validation.py:475: DataConversionWarning: Data with input dtype int64 was converted to float64 by MinMaxScaler.\n",
      "  warnings.warn(msg, DataConversionWarning)\n"
     ]
    }
   ],
   "source": [
    "start_time = time.time()\n",
    "\n",
    "#identify and create feature list\n",
    "feature_data = df_ml[['age', 'drug_code', 'sex_code']]\n",
    "\n",
    "#set x to feature values\n",
    "x = feature_data.values\n",
    "#initialize MinMaxScaler\n",
    "min_max_scaler = MinMaxScaler()\n",
    "#scale/fit data to x_scaled variable\n",
    "x_scaled = min_max_scaler.fit_transform(x)\n",
    "\n",
    "#add scaled data to feature list\n",
    "feature_data = pd.DataFrame(x_scaled, columns=feature_data.columns)\n",
    "\n",
    "print(\"--- Time to run code: %s seconds ---\" % (time.time() - start_time))"
   ]
  },
  {
   "cell_type": "code",
   "execution_count": 45,
   "metadata": {
    "nbpresent": {
     "id": "b275e710-9f29-490d-be7b-8a5e093cdfe4"
    },
    "slideshow": {
     "slide_type": "skip"
    }
   },
   "outputs": [],
   "source": [
    "#add features to the feature data list\n",
    "feature_data['reason_code']= np.array(df_ml['reason_code'])\n",
    "feature_data['essay0']= np.array(df_ml['essay0'])\n",
    "feature_data['essay1']= np.array(df_ml['essay1'])"
   ]
  },
  {
   "cell_type": "code",
   "execution_count": 46,
   "metadata": {
    "nbpresent": {
     "id": "6f90d16c-f90d-42f2-86a1-bebcc563f4d0"
    },
    "slideshow": {
     "slide_type": "skip"
    }
   },
   "outputs": [
    {
     "data": {
      "text/html": [
       "<div>\n",
       "<style scoped>\n",
       "    .dataframe tbody tr th:only-of-type {\n",
       "        vertical-align: middle;\n",
       "    }\n",
       "\n",
       "    .dataframe tbody tr th {\n",
       "        vertical-align: top;\n",
       "    }\n",
       "\n",
       "    .dataframe thead th {\n",
       "        text-align: right;\n",
       "    }\n",
       "</style>\n",
       "<table border=\"1\" class=\"dataframe\">\n",
       "  <thead>\n",
       "    <tr style=\"text-align: right;\">\n",
       "      <th></th>\n",
       "      <th>age</th>\n",
       "      <th>drug_code</th>\n",
       "      <th>sex_code</th>\n",
       "      <th>reason_code</th>\n",
       "      <th>essay0</th>\n",
       "      <th>essay1</th>\n",
       "    </tr>\n",
       "  </thead>\n",
       "  <tbody>\n",
       "  </tbody>\n",
       "</table>\n",
       "</div>"
      ],
      "text/plain": [
       "Empty DataFrame\n",
       "Columns: [age, drug_code, sex_code, reason_code, essay0, essay1]\n",
       "Index: []"
      ]
     },
     "execution_count": 46,
     "metadata": {},
     "output_type": "execute_result"
    }
   ],
   "source": [
    "#check for null values\n",
    "feature_data[feature_data.isnull().any(axis=1)]"
   ]
  },
  {
   "cell_type": "code",
   "execution_count": 47,
   "metadata": {
    "nbpresent": {
     "id": "39436810-9a79-4bbf-bb7b-9d307d995eb4"
    },
    "slideshow": {
     "slide_type": "slide"
    }
   },
   "outputs": [
    {
     "data": {
      "text/html": [
       "<div>\n",
       "<style scoped>\n",
       "    .dataframe tbody tr th:only-of-type {\n",
       "        vertical-align: middle;\n",
       "    }\n",
       "\n",
       "    .dataframe tbody tr th {\n",
       "        vertical-align: top;\n",
       "    }\n",
       "\n",
       "    .dataframe thead th {\n",
       "        text-align: right;\n",
       "    }\n",
       "</style>\n",
       "<table border=\"1\" class=\"dataframe\">\n",
       "  <thead>\n",
       "    <tr style=\"text-align: right;\">\n",
       "      <th></th>\n",
       "      <th>age</th>\n",
       "      <th>drug_code</th>\n",
       "      <th>sex_code</th>\n",
       "      <th>reason_code</th>\n",
       "      <th>essay0</th>\n",
       "      <th>essay1</th>\n",
       "    </tr>\n",
       "  </thead>\n",
       "  <tbody>\n",
       "    <tr>\n",
       "      <th>0</th>\n",
       "      <td>0.078431</td>\n",
       "      <td>0.0</td>\n",
       "      <td>1.0</td>\n",
       "      <td>1</td>\n",
       "      <td>0.9916</td>\n",
       "      <td>0.8176</td>\n",
       "    </tr>\n",
       "    <tr>\n",
       "      <th>1</th>\n",
       "      <td>0.333333</td>\n",
       "      <td>0.5</td>\n",
       "      <td>1.0</td>\n",
       "      <td>1</td>\n",
       "      <td>0.9794</td>\n",
       "      <td>0.0516</td>\n",
       "    </tr>\n",
       "    <tr>\n",
       "      <th>2</th>\n",
       "      <td>0.156863</td>\n",
       "      <td>0.0</td>\n",
       "      <td>0.0</td>\n",
       "      <td>0</td>\n",
       "      <td>0.9049</td>\n",
       "      <td>-0.4019</td>\n",
       "    </tr>\n",
       "    <tr>\n",
       "      <th>3</th>\n",
       "      <td>0.294118</td>\n",
       "      <td>0.0</td>\n",
       "      <td>1.0</td>\n",
       "      <td>0</td>\n",
       "      <td>0.9963</td>\n",
       "      <td>0.9371</td>\n",
       "    </tr>\n",
       "    <tr>\n",
       "      <th>4</th>\n",
       "      <td>0.078431</td>\n",
       "      <td>0.0</td>\n",
       "      <td>0.0</td>\n",
       "      <td>1</td>\n",
       "      <td>0.8720</td>\n",
       "      <td>0.9142</td>\n",
       "    </tr>\n",
       "  </tbody>\n",
       "</table>\n",
       "</div>"
      ],
      "text/plain": [
       "        age  drug_code  sex_code  reason_code  essay0  essay1\n",
       "0  0.078431        0.0       1.0            1  0.9916  0.8176\n",
       "1  0.333333        0.5       1.0            1  0.9794  0.0516\n",
       "2  0.156863        0.0       0.0            0  0.9049 -0.4019\n",
       "3  0.294118        0.0       1.0            0  0.9963  0.9371\n",
       "4  0.078431        0.0       0.0            1  0.8720  0.9142"
      ]
     },
     "execution_count": 47,
     "metadata": {},
     "output_type": "execute_result"
    }
   ],
   "source": [
    "#review the data\n",
    "feature_data.head()"
   ]
  },
  {
   "cell_type": "markdown",
   "metadata": {
    "slideshow": {
     "slide_type": "slide"
    }
   },
   "source": [
    "### Question 1: Can I perdict the type of relationship or reason why someone is on OKCupid?"
   ]
  },
  {
   "cell_type": "markdown",
   "metadata": {
    "nbpresent": {
     "id": "da9893f5-3b54-4f47-88ba-f22567e933f8"
    },
    "slideshow": {
     "slide_type": "slide"
    }
   },
   "source": [
    "# Classification Techniques"
   ]
  },
  {
   "cell_type": "markdown",
   "metadata": {
    "nbpresent": {
     "id": "2d19cb59-497d-48d1-a947-d553eb527656"
    },
    "slideshow": {
     "slide_type": "slide"
    }
   },
   "source": [
    "#### K-Nearest Neighbors"
   ]
  },
  {
   "cell_type": "code",
   "execution_count": 48,
   "metadata": {
    "nbpresent": {
     "id": "c7d10b8d-bcc5-4c26-b30f-b7022a49254e"
    },
    "slideshow": {
     "slide_type": "skip"
    }
   },
   "outputs": [],
   "source": [
    "#data set and target variables\n",
    "profiles = feature_data.drop(['reason_code'], axis=1)\n",
    "labels = feature_data['reason_code']"
   ]
  },
  {
   "cell_type": "code",
   "execution_count": 49,
   "metadata": {
    "nbpresent": {
     "id": "6920d3cc-8a17-4606-b559-972e4709d2ab"
    },
    "slideshow": {
     "slide_type": "skip"
    }
   },
   "outputs": [
    {
     "name": "stdout",
     "output_type": "stream",
     "text": [
      "<class 'pandas.core.frame.DataFrame'>\n",
      "RangeIndex: 16220 entries, 0 to 16219\n",
      "Data columns (total 5 columns):\n",
      "age          16220 non-null float64\n",
      "drug_code    16220 non-null float64\n",
      "sex_code     16220 non-null float64\n",
      "essay0       16220 non-null float64\n",
      "essay1       16220 non-null float64\n",
      "dtypes: float64(5)\n",
      "memory usage: 633.7 KB\n"
     ]
    }
   ],
   "source": [
    "#validate data\n",
    "profiles.info()"
   ]
  },
  {
   "cell_type": "code",
   "execution_count": 50,
   "metadata": {
    "nbpresent": {
     "id": "4104ec37-849e-44a4-965c-56746d603b47"
    },
    "slideshow": {
     "slide_type": "skip"
    }
   },
   "outputs": [],
   "source": [
    "#import \n",
    "from sklearn.model_selection import train_test_split\n",
    "from sklearn.neighbors import KNeighborsClassifier\n",
    "from sklearn.metrics import accuracy_score, recall_score, precision_score"
   ]
  },
  {
   "cell_type": "code",
   "execution_count": 51,
   "metadata": {
    "nbpresent": {
     "id": "353b98c6-39ca-47d7-824a-ba7e604a401a"
    },
    "slideshow": {
     "slide_type": "skip"
    }
   },
   "outputs": [],
   "source": [
    "training_data, validation_data, training_labels, validation_labels = train_test_split(\n",
    "    profiles, labels, test_size = 0.2, random_state = 100 )"
   ]
  },
  {
   "cell_type": "code",
   "execution_count": 52,
   "metadata": {
    "nbpresent": {
     "id": "0fe537ab-b72c-4517-901e-e8b22923b429"
    },
    "slideshow": {
     "slide_type": "skip"
    }
   },
   "outputs": [
    {
     "data": {
      "text/plain": [
       "True"
      ]
     },
     "execution_count": 52,
     "metadata": {},
     "output_type": "execute_result"
    }
   ],
   "source": [
    "#training data and labels should be equal\n",
    "len(training_data) == len(training_labels)"
   ]
  },
  {
   "cell_type": "code",
   "execution_count": 53,
   "metadata": {
    "nbpresent": {
     "id": "a9e7ce56-5b25-43cf-9e0f-e5e0e5a8929d"
    },
    "slideshow": {
     "slide_type": "skip"
    }
   },
   "outputs": [],
   "source": [
    "#set range of k values\n",
    "k_list = range(1, 101)\n",
    "#list to capture accuracy values\n",
    "accuracies = []"
   ]
  },
  {
   "cell_type": "code",
   "execution_count": 54,
   "metadata": {
    "nbpresent": {
     "id": "7955547b-a7d5-40c3-969f-b4fd315b1d50"
    },
    "slideshow": {
     "slide_type": "slide"
    }
   },
   "outputs": [
    {
     "name": "stdout",
     "output_type": "stream",
     "text": [
      "--- Time to run code: 14.02603816986084 seconds ---\n"
     ]
    }
   ],
   "source": [
    "start_time = time.time()\n",
    "\n",
    "#loop through 100 k values to test classier for KNN approach\n",
    "for k in range(1, 101):\n",
    "    classifier = KNeighborsClassifier(n_neighbors=k)\n",
    "    classifier.fit(training_data, training_labels)\n",
    "    accuracies.append(classifier.score(validation_data, validation_labels))   \n",
    "    \n",
    "print(\"--- Time to run code: %s seconds ---\" % (time.time() - start_time))"
   ]
  },
  {
   "cell_type": "code",
   "execution_count": 55,
   "metadata": {
    "nbpresent": {
     "id": "ba13bfa8-a09b-48b0-8904-3336f2b0e639"
    },
    "slideshow": {
     "slide_type": "slide"
    }
   },
   "outputs": [
    {
     "data": {
      "image/png": "[encoded data removed]",
      "text/plain": [
       "<matplotlib.figure.Figure at 0x11773ceb8>"
      ]
     },
     "metadata": {},
     "output_type": "display_data"
    }
   ],
   "source": [
    "#plot the k values and accuracies\n",
    "plt.plot(k_list, accuracies)\n",
    "plt.xlabel(\"k\")\n",
    "plt.ylabel(\"Validation_Accuracy\")\n",
    "plt.title(\"Reason Classifier Accuracy\")\n",
    "plt.show()"
   ]
  },
  {
   "cell_type": "code",
   "execution_count": 56,
   "metadata": {
    "nbpresent": {
     "id": "a117ce41-f254-4965-8102-38f36e9de4e0"
    },
    "slideshow": {
     "slide_type": "skip"
    }
   },
   "outputs": [],
   "source": [
    "classifier = KNeighborsClassifier(n_neighbors=35)\n",
    "classifier.fit(training_data, training_labels)\n",
    "predict = classifier.predict(validation_data)"
   ]
  },
  {
   "cell_type": "code",
   "execution_count": 57,
   "metadata": {
    "nbpresent": {
     "id": "f9663133-e337-44b3-a638-25bb0ce07772"
    },
    "slideshow": {
     "slide_type": "slide"
    }
   },
   "outputs": [
    {
     "name": "stdout",
     "output_type": "stream",
     "text": [
      "Accuracy: 0.598951911221\n",
      "Percision: 0.611282051282\n",
      "Recall: 0.687031700288\n"
     ]
    }
   ],
   "source": [
    "#At K=35\n",
    "print('Accuracy:', accuracy_score(validation_labels, predict))\n",
    "print('Percision:', precision_score(validation_labels, predict))\n",
    "print('Recall:', recall_score(validation_labels, predict))"
   ]
  },
  {
   "cell_type": "markdown",
   "metadata": {
    "slideshow": {
     "slide_type": "slide"
    }
   },
   "source": [
    "# Result: KNN\n",
    "\n",
    "I ran through a couple varations of this and increased my results from 30% to about 60%. I thought this was an interesting results. I would further this by analyzing all of the essay questions and continuing to identify how sentiment may identify the \"reason\" why someone is on the OKCupid site. "
   ]
  },
  {
   "cell_type": "markdown",
   "metadata": {
    "nbpresent": {
     "id": "d14ae0f5-231f-43ff-8152-ef7d90c9f83c"
    },
    "slideshow": {
     "slide_type": "slide"
    }
   },
   "source": [
    "\n",
    "### Search Vector Machine "
   ]
  },
  {
   "cell_type": "code",
   "execution_count": 58,
   "metadata": {
    "nbpresent": {
     "id": "ca65b732-8faa-4701-a755-f16838073b38"
    },
    "slideshow": {
     "slide_type": "skip"
    }
   },
   "outputs": [],
   "source": [
    "#import SVC from sklearn\n",
    "from sklearn.svm import SVC"
   ]
  },
  {
   "cell_type": "code",
   "execution_count": 59,
   "metadata": {
    "nbpresent": {
     "id": "f38837a4-a8b7-4eaa-b6c8-e8fbc1eb023a"
    },
    "slideshow": {
     "slide_type": "slide"
    }
   },
   "outputs": [
    {
     "name": "stdout",
     "output_type": "stream",
     "text": [
      "Classifier Score: 0.598951911221\n",
      "Classifier Score: 0.628467940814\n",
      "--- Time to run code: 7.887718915939331 seconds ---\n"
     ]
    }
   ],
   "source": [
    "start_time = time.time()\n",
    "\n",
    "# declair classifier, fit, validate score for train and validation data & labels\n",
    "svm_classifier = SVC(kernel = 'rbf', gamma = 0.5, C = 2)\n",
    "svm_classifier.fit(training_data, training_labels)\n",
    "print('Classifier Score:', classifier.score(validation_data, validation_labels))   \n",
    "print('Classifier Score:', classifier.score(training_data, training_labels))  \n",
    "\n",
    "print(\"--- Time to run code: %s seconds ---\" % (time.time() - start_time))"
   ]
  },
  {
   "cell_type": "code",
   "execution_count": 60,
   "metadata": {
    "nbpresent": {
     "id": "fed17654-3584-4a34-a40a-3059f692e5d5"
    },
    "slideshow": {
     "slide_type": "skip"
    }
   },
   "outputs": [],
   "source": [
    "#predict with model\n",
    "predict = svm_classifier.predict(validation_data)"
   ]
  },
  {
   "cell_type": "code",
   "execution_count": 61,
   "metadata": {
    "nbpresent": {
     "id": "b3e9508f-0c25-4a52-9d39-8009faf79f75"
    },
    "slideshow": {
     "slide_type": "slide"
    }
   },
   "outputs": [
    {
     "name": "stdout",
     "output_type": "stream",
     "text": [
      "Accuracy: 0.603884093711\n",
      "Percision: 0.599734042553\n",
      "Recall: 0.779827089337\n"
     ]
    }
   ],
   "source": [
    "#accuracy, precision, recall\n",
    "print('Accuracy:', accuracy_score(validation_labels, predict))\n",
    "print('Percision:', precision_score(validation_labels, predict))\n",
    "print('Recall:', recall_score(validation_labels, predict))"
   ]
  },
  {
   "cell_type": "markdown",
   "metadata": {
    "slideshow": {
     "slide_type": "slide"
    }
   },
   "source": [
    "# Result: SVM\n",
    "\n",
    "This result mirrored the results from the KNN tests. "
   ]
  },
  {
   "cell_type": "markdown",
   "metadata": {
    "slideshow": {
     "slide_type": "slide"
    }
   },
   "source": [
    "### Question 2: Can I predict the income for a given profile?"
   ]
  },
  {
   "cell_type": "markdown",
   "metadata": {
    "nbpresent": {
     "id": "2f2311f3-e091-417e-997a-c10df1077f2b"
    },
    "slideshow": {
     "slide_type": "slide"
    }
   },
   "source": [
    "### Linear Regression"
   ]
  },
  {
   "cell_type": "code",
   "execution_count": 62,
   "metadata": {
    "nbpresent": {
     "id": "e129c2a6-d884-463e-bf4b-0c9bacdf5a33"
    },
    "slideshow": {
     "slide_type": "skip"
    }
   },
   "outputs": [],
   "source": [
    "#Copy of ML data to add income\n",
    "df_mlr = df_ml.copy()"
   ]
  },
  {
   "cell_type": "markdown",
   "metadata": {
    "slideshow": {
     "slide_type": "slide"
    }
   },
   "source": [
    "# Data Prep\n",
    "\n",
    "- Added income to data\n",
    "- dropped all NaN and duplicates\n",
    "- limited income to any value greater than -1 and < 1000000 to remove records with no income and the outlier"
   ]
  },
  {
   "cell_type": "code",
   "execution_count": 63,
   "metadata": {
    "nbpresent": {
     "id": "42cd8300-58b3-4abe-add2-568e77d44eb2"
    },
    "slideshow": {
     "slide_type": "-"
    }
   },
   "outputs": [
    {
     "name": "stdout",
     "output_type": "stream",
     "text": [
      "(16131, 9)\n",
      "(3950, 9)\n"
     ]
    }
   ],
   "source": [
    "#prep data \n",
    "#add income\n",
    "df_mlr['income'] = df['income']\n",
    "\n",
    "#drop na values\n",
    "df_mlr.dropna(inplace=True)\n",
    "#drop duplicate values (there were none)\n",
    "df_mlr.drop_duplicates(inplace=True)\n",
    "#count rows\n",
    "print(df_mlr.shape)\n",
    "\n",
    "df_mlr = df_mlr.query('income > -1 and income < 1000000')\n",
    "print(df_mlr.shape)"
   ]
  },
  {
   "cell_type": "code",
   "execution_count": 64,
   "metadata": {
    "nbpresent": {
     "id": "8154d029-5fee-4a29-a9e3-e8f220279912"
    },
    "slideshow": {
     "slide_type": "skip"
    }
   },
   "outputs": [],
   "source": [
    "#import\n",
    "from sklearn.linear_model import LinearRegression"
   ]
  },
  {
   "cell_type": "code",
   "execution_count": 65,
   "metadata": {
    "nbpresent": {
     "id": "ab2fd390-ebba-46f1-a899-425728e2ff17"
    },
    "slideshow": {
     "slide_type": "skip"
    }
   },
   "outputs": [],
   "source": [
    "#identify and create feature list\n",
    "feature_data = df_mlr[['age', 'drug_code', 'sex_code', 'reason_code']]"
   ]
  },
  {
   "cell_type": "code",
   "execution_count": 66,
   "metadata": {
    "nbpresent": {
     "id": "2f103a2f-36fc-4335-8bab-826a8bab3b2f"
    },
    "slideshow": {
     "slide_type": "skip"
    }
   },
   "outputs": [
    {
     "name": "stderr",
     "output_type": "stream",
     "text": [
      "/Users/paulrichardson/anaconda3/lib/python3.6/site-packages/sklearn/utils/validation.py:475: DataConversionWarning: Data with input dtype int64 was converted to float64 by MinMaxScaler.\n",
      "  warnings.warn(msg, DataConversionWarning)\n"
     ]
    }
   ],
   "source": [
    "#set x to feature values\n",
    "x = feature_data.values\n",
    "#initialize MinMaxScaler\n",
    "min_max_scaler = MinMaxScaler()\n",
    "#scale/fit data to x_scaled variable\n",
    "x_scaled = min_max_scaler.fit_transform(x)\n",
    "\n",
    "#add scaled data to feature list\n",
    "feature_data = pd.DataFrame(x_scaled, columns=feature_data.columns)\n"
   ]
  },
  {
   "cell_type": "code",
   "execution_count": 67,
   "metadata": {
    "nbpresent": {
     "id": "0bfa4a1a-e8b3-4021-a55b-bf062308a231"
    },
    "slideshow": {
     "slide_type": "skip"
    }
   },
   "outputs": [],
   "source": [
    "#add features to the feature data list\n",
    "feature_data['essay0']= np.array(df_mlr['essay0'])\n",
    "feature_data['essay1']= np.array(df_mlr['essay1'])"
   ]
  },
  {
   "cell_type": "code",
   "execution_count": 68,
   "metadata": {
    "nbpresent": {
     "id": "493c8907-1a90-4dcd-b85d-22f6d30a1699"
    },
    "slideshow": {
     "slide_type": "skip"
    }
   },
   "outputs": [
    {
     "data": {
      "text/html": [
       "<div>\n",
       "<style scoped>\n",
       "    .dataframe tbody tr th:only-of-type {\n",
       "        vertical-align: middle;\n",
       "    }\n",
       "\n",
       "    .dataframe tbody tr th {\n",
       "        vertical-align: top;\n",
       "    }\n",
       "\n",
       "    .dataframe thead th {\n",
       "        text-align: right;\n",
       "    }\n",
       "</style>\n",
       "<table border=\"1\" class=\"dataframe\">\n",
       "  <thead>\n",
       "    <tr style=\"text-align: right;\">\n",
       "      <th></th>\n",
       "      <th>age</th>\n",
       "      <th>drug_code</th>\n",
       "      <th>sex_code</th>\n",
       "      <th>reason_code</th>\n",
       "      <th>essay0</th>\n",
       "      <th>essay1</th>\n",
       "    </tr>\n",
       "  </thead>\n",
       "  <tbody>\n",
       "  </tbody>\n",
       "</table>\n",
       "</div>"
      ],
      "text/plain": [
       "Empty DataFrame\n",
       "Columns: [age, drug_code, sex_code, reason_code, essay0, essay1]\n",
       "Index: []"
      ]
     },
     "execution_count": 68,
     "metadata": {},
     "output_type": "execute_result"
    }
   ],
   "source": [
    "#check for null values\n",
    "feature_data[feature_data.isnull().any(axis=1)]"
   ]
  },
  {
   "cell_type": "code",
   "execution_count": 69,
   "metadata": {
    "nbpresent": {
     "id": "39222d01-f2bd-4c05-9751-2195d46d8eec"
    },
    "slideshow": {
     "slide_type": "skip"
    }
   },
   "outputs": [
    {
     "data": {
      "text/html": [
       "<div>\n",
       "<style scoped>\n",
       "    .dataframe tbody tr th:only-of-type {\n",
       "        vertical-align: middle;\n",
       "    }\n",
       "\n",
       "    .dataframe tbody tr th {\n",
       "        vertical-align: top;\n",
       "    }\n",
       "\n",
       "    .dataframe thead th {\n",
       "        text-align: right;\n",
       "    }\n",
       "</style>\n",
       "<table border=\"1\" class=\"dataframe\">\n",
       "  <thead>\n",
       "    <tr style=\"text-align: right;\">\n",
       "      <th></th>\n",
       "      <th>age</th>\n",
       "      <th>drug_code</th>\n",
       "      <th>sex_code</th>\n",
       "      <th>reason_code</th>\n",
       "      <th>essay0</th>\n",
       "      <th>essay1</th>\n",
       "    </tr>\n",
       "  </thead>\n",
       "  <tbody>\n",
       "    <tr>\n",
       "      <th>0</th>\n",
       "      <td>0.333333</td>\n",
       "      <td>0.5</td>\n",
       "      <td>1.0</td>\n",
       "      <td>1.0</td>\n",
       "      <td>0.9794</td>\n",
       "      <td>0.0516</td>\n",
       "    </tr>\n",
       "    <tr>\n",
       "      <th>1</th>\n",
       "      <td>0.333333</td>\n",
       "      <td>0.5</td>\n",
       "      <td>1.0</td>\n",
       "      <td>1.0</td>\n",
       "      <td>0.9908</td>\n",
       "      <td>0.1010</td>\n",
       "    </tr>\n",
       "    <tr>\n",
       "      <th>2</th>\n",
       "      <td>0.254902</td>\n",
       "      <td>0.0</td>\n",
       "      <td>0.0</td>\n",
       "      <td>1.0</td>\n",
       "      <td>0.9517</td>\n",
       "      <td>0.8591</td>\n",
       "    </tr>\n",
       "    <tr>\n",
       "      <th>3</th>\n",
       "      <td>0.215686</td>\n",
       "      <td>0.5</td>\n",
       "      <td>1.0</td>\n",
       "      <td>0.0</td>\n",
       "      <td>0.9011</td>\n",
       "      <td>0.0000</td>\n",
       "    </tr>\n",
       "    <tr>\n",
       "      <th>4</th>\n",
       "      <td>0.098039</td>\n",
       "      <td>0.0</td>\n",
       "      <td>0.0</td>\n",
       "      <td>1.0</td>\n",
       "      <td>0.9969</td>\n",
       "      <td>0.5423</td>\n",
       "    </tr>\n",
       "  </tbody>\n",
       "</table>\n",
       "</div>"
      ],
      "text/plain": [
       "        age  drug_code  sex_code  reason_code  essay0  essay1\n",
       "0  0.333333        0.5       1.0          1.0  0.9794  0.0516\n",
       "1  0.333333        0.5       1.0          1.0  0.9908  0.1010\n",
       "2  0.254902        0.0       0.0          1.0  0.9517  0.8591\n",
       "3  0.215686        0.5       1.0          0.0  0.9011  0.0000\n",
       "4  0.098039        0.0       0.0          1.0  0.9969  0.5423"
      ]
     },
     "execution_count": 69,
     "metadata": {},
     "output_type": "execute_result"
    }
   ],
   "source": [
    "#review the data\n",
    "feature_data.head()"
   ]
  },
  {
   "cell_type": "code",
   "execution_count": 70,
   "metadata": {
    "nbpresent": {
     "id": "40730b0b-644f-40b3-8407-9e7d507cb30f"
    },
    "slideshow": {
     "slide_type": "skip"
    }
   },
   "outputs": [],
   "source": [
    "#set profiles and labels for model\n",
    "profiles = feature_data\n",
    "labels = df_mlr['income']"
   ]
  },
  {
   "cell_type": "code",
   "execution_count": 71,
   "metadata": {
    "nbpresent": {
     "id": "80ee408f-c689-4921-8da2-4bda5adfa428"
    },
    "slideshow": {
     "slide_type": "skip"
    }
   },
   "outputs": [],
   "source": [
    "#train test split for data\n",
    "training_data, validation_data, training_labels, validation_labels = train_test_split(\n",
    "    profiles, labels, test_size = 0.2, random_state = 100 )"
   ]
  },
  {
   "cell_type": "code",
   "execution_count": 72,
   "metadata": {
    "nbpresent": {
     "id": "fee83e04-65d2-4650-9999-438d53ae7c36"
    },
    "slideshow": {
     "slide_type": "slide"
    }
   },
   "outputs": [
    {
     "name": "stdout",
     "output_type": "stream",
     "text": [
      "Training data Score:  0.136890792608\n",
      "Validation data Score:  0.0686545576644\n",
      "--- Time to run code: 9.608268737792969e-05 seconds ---\n"
     ]
    }
   ],
   "source": [
    "#inialize regression, fit and score \n",
    "start_time = time.time()\n",
    "\n",
    "regressor = LinearRegression()\n",
    "regressor.fit(training_data, training_labels)\n",
    "#score training\n",
    "print('Training data Score: ', regressor.score(training_data, training_labels))\n",
    "#score validation\n",
    "print('Validation data Score: ', regressor.score(validation_data, validation_labels)) \n",
    "start_time = time.time()\n",
    "print(\"--- Time to run code: %s seconds ---\" % (time.time() - start_time))"
   ]
  },
  {
   "cell_type": "code",
   "execution_count": 73,
   "metadata": {
    "nbpresent": {
     "id": "8aa9c246-7dbd-427f-a79b-ddfd42fef26f"
    },
    "slideshow": {
     "slide_type": "skip"
    }
   },
   "outputs": [],
   "source": [
    "#predict with model\n",
    "predict = regressor.predict(validation_data)"
   ]
  },
  {
   "cell_type": "code",
   "execution_count": 74,
   "metadata": {
    "nbpresent": {
     "id": "403f595e-b4d3-4c4a-9ac9-7c5630d68c80"
    },
    "slideshow": {
     "slide_type": "slide"
    }
   },
   "outputs": [
    {
     "data": {
      "image/png": "[encoded data removed]",
      "text/plain": [
       "<matplotlib.figure.Figure at 0x1174e1550>"
      ]
     },
     "metadata": {},
     "output_type": "display_data"
    }
   ],
   "source": [
    "#scatter\n",
    "plt.scatter(predict,validation_labels,alpha=0.4)\n",
    "plt.xlabel(\"Income\")\n",
    "plt.ylabel(\"Predicted\")\n",
    "plt.title(\"Actual vs Predicted Income\")\n",
    "plt.show()"
   ]
  },
  {
   "cell_type": "markdown",
   "metadata": {
    "nbpresent": {
     "id": "e2948f38-23f4-4a02-81d5-acec1eecc6c7"
    },
    "slideshow": {
     "slide_type": "slide"
    }
   },
   "source": [
    "### KNN Regression"
   ]
  },
  {
   "cell_type": "code",
   "execution_count": 75,
   "metadata": {
    "nbpresent": {
     "id": "ff99e8f1-778c-430e-9b36-65a67fd476b5"
    },
    "slideshow": {
     "slide_type": "slide"
    }
   },
   "outputs": [
    {
     "name": "stdout",
     "output_type": "stream",
     "text": [
      "Training data Score:  0.997821211383\n",
      "Validation data Score:  0.0309083731044\n",
      "--- Time to run code: 0.11292290687561035 seconds ---\n"
     ]
    }
   ],
   "source": [
    "from sklearn.neighbors import KNeighborsRegressor\n",
    "\n",
    "start_time = time.time()\n",
    "\n",
    "regressor = KNeighborsRegressor(n_neighbors = 35,  weights = \"distance\")\n",
    "regressor.fit(training_data, training_labels)\n",
    "print('Training data Score: ', regressor.score(training_data, training_labels))\n",
    "print('Validation data Score: ', regressor.score(validation_data, validation_labels)) \n",
    "\n",
    "print(\"--- Time to run code: %s seconds ---\" % (time.time() - start_time))"
   ]
  },
  {
   "cell_type": "code",
   "execution_count": 76,
   "metadata": {
    "nbpresent": {
     "id": "2f4ea024-cec5-490b-b02e-10e46c3abdad"
    },
    "slideshow": {
     "slide_type": "skip"
    }
   },
   "outputs": [],
   "source": [
    "predict = regressor.predict(validation_data)"
   ]
  },
  {
   "cell_type": "code",
   "execution_count": 77,
   "metadata": {
    "nbpresent": {
     "id": "a5d7a229-244b-4ab5-8af5-c77a2e150026"
    },
    "slideshow": {
     "slide_type": "slide"
    }
   },
   "outputs": [
    {
     "data": {
      "image/png": "[encoded data removed]",
      "text/plain": [
       "<matplotlib.figure.Figure at 0x1a2290a208>"
      ]
     },
     "metadata": {},
     "output_type": "display_data"
    }
   ],
   "source": [
    "plt.scatter(predict,validation_labels,alpha=0.4)\n",
    "plt.xlabel(\"Income\")\n",
    "plt.ylabel(\"Predicted\")\n",
    "plt.title(\"Actual vs Predicted Income\")\n",
    "plt.show()"
   ]
  },
  {
   "cell_type": "markdown",
   "metadata": {
    "slideshow": {
     "slide_type": "slide"
    }
   },
   "source": [
    "# Result\n",
    "The result from my regression tests were terrible. However, I don't believe the income data was suffcient nor did I pick the best columns for this method. If had a bit more time I could dig into this a lot more however I do not believe the income data was very good for this data set based on the relative few records available. "
   ]
  }
 ],
 "metadata": {
  "celltoolbar": "Raw Cell Format",
  "kernelspec": {
   "display_name": "Python [default]",
   "language": "python",
   "name": "python3"
  },
  "language_info": {
   "codemirror_mode": {
    "name": "ipython",
    "version": 3
   },
   "file_extension": ".py",
   "mimetype": "text/x-python",
   "name": "python",
   "nbconvert_exporter": "python",
   "pygments_lexer": "ipython3",
   "version": "3.6.6"
  },
  "nbpresent": {
   "slides": {
    "bd34afec-707e-4f0b-bfa5-d1bf377ed8a5": {
     "id": "bd34afec-707e-4f0b-bfa5-d1bf377ed8a5",
     "prev": null,
     "regions": {
      "a78f3adf-0af8-4e9b-a6ec-77de5bc0cdff": {
       "attrs": {
        "height": 1,
        "width": 1,
        "x": 0,
        "y": 0
       },
       "id": "a78f3adf-0af8-4e9b-a6ec-77de5bc0cdff"
      }
     }
    }
   },
   "themes": {}
  }
 },
 "nbformat": 4,
 "nbformat_minor": 2
}
